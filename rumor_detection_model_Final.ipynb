{
  "nbformat": 4,
  "nbformat_minor": 0,
  "metadata": {
    "kernelspec": {
      "display_name": "Python 3",
      "language": "python",
      "name": "python3"
    },
    "language_info": {
      "codemirror_mode": {
        "name": "ipython",
        "version": 3
      },
      "file_extension": ".py",
      "mimetype": "text/x-python",
      "name": "python",
      "nbconvert_exporter": "python",
      "pygments_lexer": "ipython3",
      "version": "3.7.4"
    },
    "colab": {
      "name": "rumor detection model-Final.ipynb",
      "provenance": [],
      "collapsed_sections": [],
      "include_colab_link": true
    }
  },
  "cells": [
    {
      "cell_type": "markdown",
      "metadata": {
        "id": "view-in-github",
        "colab_type": "text"
      },
      "source": [
        "<a href=\"https://colab.research.google.com/github/Rehabah/Rumor-Detection/blob/main/rumor_detection_model_Final.ipynb\" target=\"_parent\"><img src=\"https://colab.research.google.com/assets/colab-badge.svg\" alt=\"Open In Colab\"/></a>"
      ]
    },
    {
      "cell_type": "markdown",
      "metadata": {
        "id": "DpQQ7EMz7xqL"
      },
      "source": [
        "# Rumor Detection Model_ Final"
      ]
    },
    {
      "cell_type": "markdown",
      "metadata": {
        "id": "-8CtZr8T7xqY"
      },
      "source": [
        "###### last edition on 5 Sep"
      ]
    },
    {
      "cell_type": "code",
      "metadata": {
        "id": "PsyQpkNx7xqa"
      },
      "source": [
        "import pandas as pd\n",
        "import matplotlib.pyplot as plt\n",
        "import seaborn as sns\n",
        "import numpy as np\n",
        "from sklearn.model_selection import train_test_split\n",
        "from sklearn import metrics\n",
        "from sklearn.metrics import classification_report, confusion_matrix\n",
        "from sklearn.tree import DecisionTreeClassifier\n",
        "from sklearn.metrics import accuracy_score\n",
        "from sklearn import tree\n",
        "from sklearn.model_selection import cross_val_score\n",
        "from sklearn.metrics import precision_recall_curve\n",
        "from sklearn.metrics import average_precision_score\n",
        "from sklearn.metrics import roc_curve, roc_auc_score, auc\n",
        "from sklearn.ensemble import RandomForestClassifier\n",
        "from sklearn.model_selection import RandomizedSearchCV\n",
        "from sklearn.model_selection import GridSearchCV\n",
        "#from sklearn.linear_model import LogisticRegression\n",
        "from scipy.stats import randint\n",
        "from sklearn.ensemble import ExtraTreesClassifier\n",
        "import joblib\n",
        "from sklearn.tree import export_graphviz\n",
        "from sklearn.ensemble import GradientBoostingClassifier\n",
        "from sklearn import svm\n",
        "from sklearn.feature_selection import RFE\n",
        "from sklearn.feature_selection import mutual_info_classif\n",
        "from sklearn.decomposition import PCA\n",
        "from sklearn.model_selection import StratifiedKFold\n",
        "from matplotlib.legend_handler import HandlerLine2D"
      ],
      "execution_count": null,
      "outputs": []
    },
    {
      "cell_type": "code",
      "metadata": {
        "colab": {
          "base_uri": "https://localhost:8080/"
        },
        "id": "XG4vzG9-sej8",
        "outputId": "4d466b8b-0192-4fff-b95a-ebb162fdbe85"
      },
      "source": [
        "import pandas as pd\n",
        "from google.colab import drive\n",
        "drive.mount(\"/content/gdrive\")"
      ],
      "execution_count": null,
      "outputs": [
        {
          "output_type": "stream",
          "name": "stdout",
          "text": [
            "Mounted at /content/gdrive\n"
          ]
        }
      ]
    },
    {
      "cell_type": "code",
      "metadata": {
        "id": "F9_NjYhg7xqf"
      },
      "source": [
        "dataset=pd.read_excel(r\"/content/gdrive/MyDrive/Rumor_detection/Rehab1-Final Data Set.xlsx\")"
      ],
      "execution_count": null,
      "outputs": []
    },
    {
      "cell_type": "code",
      "metadata": {
        "id": "Oc1nLY7i7xqi"
      },
      "source": [
        "#copy datafraem\n",
        "df=dataset"
      ],
      "execution_count": null,
      "outputs": []
    },
    {
      "cell_type": "code",
      "metadata": {
        "id": "yAEMZ1zH7xqj",
        "colab": {
          "base_uri": "https://localhost:8080/"
        },
        "outputId": "cd06bf7d-8b4e-4697-de79-ffcb96853ee2"
      },
      "source": [
        "len(df)"
      ],
      "execution_count": null,
      "outputs": [
        {
          "output_type": "execute_result",
          "data": {
            "text/plain": [
              "2264"
            ]
          },
          "metadata": {},
          "execution_count": 5
        }
      ]
    },
    {
      "cell_type": "code",
      "metadata": {
        "id": "9q1M6WjR7xqm",
        "colab": {
          "base_uri": "https://localhost:8080/"
        },
        "outputId": "410b8d08-ae7e-4018-bc70-d22681fb26d6"
      },
      "source": [
        "df.columns"
      ],
      "execution_count": null,
      "outputs": [
        {
          "output_type": "execute_result",
          "data": {
            "text/plain": [
              "Index(['Retweet_Count', 'Favorited', 'Retweeted', 'Lists', 'Verified',\n",
              "       'Location', 'Description', 'Time_span', 'E_score', 'Followers/Friends',\n",
              "       'Favorite/Statu', 'Status_count', 'Followers', 'Fovorites_count',\n",
              "       'Protected', 'Name', 'Friends', 'Screen_name', 'Matching', 'Multimidia',\n",
              "       'URL', 'Hashtags', 'Question_Mark', 'Phone_num', 'Result'],\n",
              "      dtype='object')"
            ]
          },
          "metadata": {},
          "execution_count": 6
        }
      ]
    },
    {
      "cell_type": "code",
      "metadata": {
        "id": "mV4EKj_-7xqn",
        "colab": {
          "base_uri": "https://localhost:8080/"
        },
        "outputId": "b372f154-6e3f-49f9-ba8f-68dfede1ca30"
      },
      "source": [
        "df.info()"
      ],
      "execution_count": null,
      "outputs": [
        {
          "output_type": "stream",
          "name": "stdout",
          "text": [
            "<class 'pandas.core.frame.DataFrame'>\n",
            "RangeIndex: 2264 entries, 0 to 2263\n",
            "Data columns (total 25 columns):\n",
            " #   Column             Non-Null Count  Dtype  \n",
            "---  ------             --------------  -----  \n",
            " 0   Retweet_Count      2264 non-null   int64  \n",
            " 1   Favorited          2264 non-null   bool   \n",
            " 2   Retweeted          2264 non-null   bool   \n",
            " 3   Lists              2264 non-null   int64  \n",
            " 4   Verified           2264 non-null   bool   \n",
            " 5   Location           2264 non-null   bool   \n",
            " 6   Description        2264 non-null   bool   \n",
            " 7   Time_span          2264 non-null   int64  \n",
            " 8   E_score            2264 non-null   float64\n",
            " 9   Followers/Friends  2264 non-null   float64\n",
            " 10  Favorite/Statu     2264 non-null   float64\n",
            " 11  Status_count       2264 non-null   int64  \n",
            " 12  Followers          2264 non-null   int64  \n",
            " 13  Fovorites_count    2264 non-null   int64  \n",
            " 14  Protected          2264 non-null   bool   \n",
            " 15  Name               2264 non-null   bool   \n",
            " 16  Friends            2264 non-null   int64  \n",
            " 17  Screen_name        2264 non-null   bool   \n",
            " 18  Matching           2264 non-null   bool   \n",
            " 19  Multimidia         2264 non-null   int64  \n",
            " 20  URL                2264 non-null   int64  \n",
            " 21  Hashtags           2264 non-null   int64  \n",
            " 22  Question_Mark      2264 non-null   int64  \n",
            " 23  Phone_num          2264 non-null   int64  \n",
            " 24  Result             2264 non-null   object \n",
            "dtypes: bool(9), float64(3), int64(12), object(1)\n",
            "memory usage: 303.0+ KB\n"
          ]
        }
      ]
    },
    {
      "cell_type": "code",
      "metadata": {
        "id": "Pw5WmmpO7xqq",
        "colab": {
          "base_uri": "https://localhost:8080/"
        },
        "outputId": "61eecca3-2110-4bff-fdda-0a033183757f"
      },
      "source": [
        "df.isnull().sum()"
      ],
      "execution_count": null,
      "outputs": [
        {
          "output_type": "execute_result",
          "data": {
            "text/plain": [
              "Retweet_Count        0\n",
              "Favorited            0\n",
              "Retweeted            0\n",
              "Lists                0\n",
              "Verified             0\n",
              "Location             0\n",
              "Description          0\n",
              "Time_span            0\n",
              "E_score              0\n",
              "Followers/Friends    0\n",
              "Favorite/Statu       0\n",
              "Status_count         0\n",
              "Followers            0\n",
              "Fovorites_count      0\n",
              "Protected            0\n",
              "Name                 0\n",
              "Friends              0\n",
              "Screen_name          0\n",
              "Matching             0\n",
              "Multimidia           0\n",
              "URL                  0\n",
              "Hashtags             0\n",
              "Question_Mark        0\n",
              "Phone_num            0\n",
              "Result               0\n",
              "dtype: int64"
            ]
          },
          "metadata": {},
          "execution_count": 8
        }
      ]
    },
    {
      "cell_type": "code",
      "metadata": {
        "id": "ujbwv_sN7xqs",
        "colab": {
          "base_uri": "https://localhost:8080/",
          "height": 313
        },
        "outputId": "57da41d5-8f34-40e4-d002-a524fce867f1"
      },
      "source": [
        "df.head()"
      ],
      "execution_count": null,
      "outputs": [
        {
          "output_type": "execute_result",
          "data": {
            "text/html": [
              "<div>\n",
              "<style scoped>\n",
              "    .dataframe tbody tr th:only-of-type {\n",
              "        vertical-align: middle;\n",
              "    }\n",
              "\n",
              "    .dataframe tbody tr th {\n",
              "        vertical-align: top;\n",
              "    }\n",
              "\n",
              "    .dataframe thead th {\n",
              "        text-align: right;\n",
              "    }\n",
              "</style>\n",
              "<table border=\"1\" class=\"dataframe\">\n",
              "  <thead>\n",
              "    <tr style=\"text-align: right;\">\n",
              "      <th></th>\n",
              "      <th>Retweet_Count</th>\n",
              "      <th>Favorited</th>\n",
              "      <th>Retweeted</th>\n",
              "      <th>Lists</th>\n",
              "      <th>Verified</th>\n",
              "      <th>Location</th>\n",
              "      <th>Description</th>\n",
              "      <th>Time_span</th>\n",
              "      <th>E_score</th>\n",
              "      <th>Followers/Friends</th>\n",
              "      <th>Favorite/Statu</th>\n",
              "      <th>Status_count</th>\n",
              "      <th>Followers</th>\n",
              "      <th>Fovorites_count</th>\n",
              "      <th>Protected</th>\n",
              "      <th>Name</th>\n",
              "      <th>Friends</th>\n",
              "      <th>Screen_name</th>\n",
              "      <th>Matching</th>\n",
              "      <th>Multimidia</th>\n",
              "      <th>URL</th>\n",
              "      <th>Hashtags</th>\n",
              "      <th>Question_Mark</th>\n",
              "      <th>Phone_num</th>\n",
              "      <th>Result</th>\n",
              "    </tr>\n",
              "  </thead>\n",
              "  <tbody>\n",
              "    <tr>\n",
              "      <th>0</th>\n",
              "      <td>3</td>\n",
              "      <td>False</td>\n",
              "      <td>False</td>\n",
              "      <td>2</td>\n",
              "      <td>False</td>\n",
              "      <td>False</td>\n",
              "      <td>True</td>\n",
              "      <td>72</td>\n",
              "      <td>137.750000</td>\n",
              "      <td>0.905318</td>\n",
              "      <td>0.046884</td>\n",
              "      <td>9918</td>\n",
              "      <td>698</td>\n",
              "      <td>465</td>\n",
              "      <td>False</td>\n",
              "      <td>True</td>\n",
              "      <td>771</td>\n",
              "      <td>True</td>\n",
              "      <td>True</td>\n",
              "      <td>0</td>\n",
              "      <td>1</td>\n",
              "      <td>1</td>\n",
              "      <td>0</td>\n",
              "      <td>0</td>\n",
              "      <td>not rumor</td>\n",
              "    </tr>\n",
              "    <tr>\n",
              "      <th>1</th>\n",
              "      <td>0</td>\n",
              "      <td>False</td>\n",
              "      <td>False</td>\n",
              "      <td>0</td>\n",
              "      <td>False</td>\n",
              "      <td>False</td>\n",
              "      <td>True</td>\n",
              "      <td>3</td>\n",
              "      <td>5.666667</td>\n",
              "      <td>360.250000</td>\n",
              "      <td>13.058824</td>\n",
              "      <td>17</td>\n",
              "      <td>1441</td>\n",
              "      <td>222</td>\n",
              "      <td>False</td>\n",
              "      <td>False</td>\n",
              "      <td>4</td>\n",
              "      <td>False</td>\n",
              "      <td>True</td>\n",
              "      <td>0</td>\n",
              "      <td>1</td>\n",
              "      <td>2</td>\n",
              "      <td>0</td>\n",
              "      <td>0</td>\n",
              "      <td>not rumor</td>\n",
              "    </tr>\n",
              "    <tr>\n",
              "      <th>2</th>\n",
              "      <td>206</td>\n",
              "      <td>False</td>\n",
              "      <td>False</td>\n",
              "      <td>202</td>\n",
              "      <td>False</td>\n",
              "      <td>False</td>\n",
              "      <td>False</td>\n",
              "      <td>60</td>\n",
              "      <td>862.833333</td>\n",
              "      <td>0.984768</td>\n",
              "      <td>0.000097</td>\n",
              "      <td>51770</td>\n",
              "      <td>18102</td>\n",
              "      <td>5</td>\n",
              "      <td>False</td>\n",
              "      <td>False</td>\n",
              "      <td>18382</td>\n",
              "      <td>False</td>\n",
              "      <td>False</td>\n",
              "      <td>1</td>\n",
              "      <td>0</td>\n",
              "      <td>11</td>\n",
              "      <td>0</td>\n",
              "      <td>1</td>\n",
              "      <td>not rumor</td>\n",
              "    </tr>\n",
              "    <tr>\n",
              "      <th>3</th>\n",
              "      <td>58</td>\n",
              "      <td>False</td>\n",
              "      <td>False</td>\n",
              "      <td>0</td>\n",
              "      <td>False</td>\n",
              "      <td>False</td>\n",
              "      <td>True</td>\n",
              "      <td>1</td>\n",
              "      <td>465.000000</td>\n",
              "      <td>0.126316</td>\n",
              "      <td>1.896774</td>\n",
              "      <td>465</td>\n",
              "      <td>12</td>\n",
              "      <td>882</td>\n",
              "      <td>False</td>\n",
              "      <td>False</td>\n",
              "      <td>95</td>\n",
              "      <td>False</td>\n",
              "      <td>True</td>\n",
              "      <td>0</td>\n",
              "      <td>0</td>\n",
              "      <td>4</td>\n",
              "      <td>4</td>\n",
              "      <td>0</td>\n",
              "      <td>not rumor</td>\n",
              "    </tr>\n",
              "    <tr>\n",
              "      <th>4</th>\n",
              "      <td>60</td>\n",
              "      <td>False</td>\n",
              "      <td>False</td>\n",
              "      <td>0</td>\n",
              "      <td>False</td>\n",
              "      <td>True</td>\n",
              "      <td>False</td>\n",
              "      <td>24</td>\n",
              "      <td>21.416667</td>\n",
              "      <td>0.612903</td>\n",
              "      <td>0.110895</td>\n",
              "      <td>514</td>\n",
              "      <td>19</td>\n",
              "      <td>57</td>\n",
              "      <td>False</td>\n",
              "      <td>False</td>\n",
              "      <td>31</td>\n",
              "      <td>False</td>\n",
              "      <td>False</td>\n",
              "      <td>1</td>\n",
              "      <td>0</td>\n",
              "      <td>1</td>\n",
              "      <td>0</td>\n",
              "      <td>0</td>\n",
              "      <td>not rumor</td>\n",
              "    </tr>\n",
              "  </tbody>\n",
              "</table>\n",
              "</div>"
            ],
            "text/plain": [
              "   Retweet_Count  Favorited  Retweeted  ...  Question_Mark  Phone_num     Result\n",
              "0              3      False      False  ...              0          0  not rumor\n",
              "1              0      False      False  ...              0          0  not rumor\n",
              "2            206      False      False  ...              0          1  not rumor\n",
              "3             58      False      False  ...              4          0  not rumor\n",
              "4             60      False      False  ...              0          0  not rumor\n",
              "\n",
              "[5 rows x 25 columns]"
            ]
          },
          "metadata": {},
          "execution_count": 9
        }
      ]
    },
    {
      "cell_type": "code",
      "metadata": {
        "id": "CEZ4wVcg7xqt"
      },
      "source": [
        "df = df.rename(columns={'Followers/Friends':'Followers_Friends','Favorite/Statu':'Favorite_Statu'})"
      ],
      "execution_count": null,
      "outputs": []
    },
    {
      "cell_type": "code",
      "metadata": {
        "id": "x4ouXv807xqv",
        "colab": {
          "base_uri": "https://localhost:8080/"
        },
        "outputId": "c48229a6-0675-411b-8100-5e4d04088f4d"
      },
      "source": [
        "df.columns"
      ],
      "execution_count": null,
      "outputs": [
        {
          "output_type": "execute_result",
          "data": {
            "text/plain": [
              "Index(['Retweet_Count', 'Favorited', 'Retweeted', 'Lists', 'Verified',\n",
              "       'Location', 'Description', 'Time_span', 'E_score', 'Followers_Friends',\n",
              "       'Favorite_Statu', 'Status_count', 'Followers', 'Fovorites_count',\n",
              "       'Protected', 'Name', 'Friends', 'Screen_name', 'Matching', 'Multimidia',\n",
              "       'URL', 'Hashtags', 'Question_Mark', 'Phone_num', 'Result'],\n",
              "      dtype='object')"
            ]
          },
          "metadata": {},
          "execution_count": 11
        }
      ]
    },
    {
      "cell_type": "code",
      "metadata": {
        "id": "NA0lfwAd7xqw",
        "colab": {
          "base_uri": "https://localhost:8080/",
          "height": 530
        },
        "outputId": "f5387db9-b0c8-4a69-9285-d160bd4dd952"
      },
      "source": [
        "display(df)"
      ],
      "execution_count": null,
      "outputs": [
        {
          "output_type": "display_data",
          "data": {
            "text/html": [
              "<div>\n",
              "<style scoped>\n",
              "    .dataframe tbody tr th:only-of-type {\n",
              "        vertical-align: middle;\n",
              "    }\n",
              "\n",
              "    .dataframe tbody tr th {\n",
              "        vertical-align: top;\n",
              "    }\n",
              "\n",
              "    .dataframe thead th {\n",
              "        text-align: right;\n",
              "    }\n",
              "</style>\n",
              "<table border=\"1\" class=\"dataframe\">\n",
              "  <thead>\n",
              "    <tr style=\"text-align: right;\">\n",
              "      <th></th>\n",
              "      <th>Retweet_Count</th>\n",
              "      <th>Favorited</th>\n",
              "      <th>Retweeted</th>\n",
              "      <th>Lists</th>\n",
              "      <th>Verified</th>\n",
              "      <th>Location</th>\n",
              "      <th>Description</th>\n",
              "      <th>Time_span</th>\n",
              "      <th>E_score</th>\n",
              "      <th>Followers_Friends</th>\n",
              "      <th>Favorite_Statu</th>\n",
              "      <th>Status_count</th>\n",
              "      <th>Followers</th>\n",
              "      <th>Fovorites_count</th>\n",
              "      <th>Protected</th>\n",
              "      <th>Name</th>\n",
              "      <th>Friends</th>\n",
              "      <th>Screen_name</th>\n",
              "      <th>Matching</th>\n",
              "      <th>Multimidia</th>\n",
              "      <th>URL</th>\n",
              "      <th>Hashtags</th>\n",
              "      <th>Question_Mark</th>\n",
              "      <th>Phone_num</th>\n",
              "      <th>Result</th>\n",
              "    </tr>\n",
              "  </thead>\n",
              "  <tbody>\n",
              "    <tr>\n",
              "      <th>0</th>\n",
              "      <td>3</td>\n",
              "      <td>False</td>\n",
              "      <td>False</td>\n",
              "      <td>2</td>\n",
              "      <td>False</td>\n",
              "      <td>False</td>\n",
              "      <td>True</td>\n",
              "      <td>72</td>\n",
              "      <td>137.750000</td>\n",
              "      <td>0.905318</td>\n",
              "      <td>0.046884</td>\n",
              "      <td>9918</td>\n",
              "      <td>698</td>\n",
              "      <td>465</td>\n",
              "      <td>False</td>\n",
              "      <td>True</td>\n",
              "      <td>771</td>\n",
              "      <td>True</td>\n",
              "      <td>True</td>\n",
              "      <td>0</td>\n",
              "      <td>1</td>\n",
              "      <td>1</td>\n",
              "      <td>0</td>\n",
              "      <td>0</td>\n",
              "      <td>not rumor</td>\n",
              "    </tr>\n",
              "    <tr>\n",
              "      <th>1</th>\n",
              "      <td>0</td>\n",
              "      <td>False</td>\n",
              "      <td>False</td>\n",
              "      <td>0</td>\n",
              "      <td>False</td>\n",
              "      <td>False</td>\n",
              "      <td>True</td>\n",
              "      <td>3</td>\n",
              "      <td>5.666667</td>\n",
              "      <td>360.250000</td>\n",
              "      <td>13.058824</td>\n",
              "      <td>17</td>\n",
              "      <td>1441</td>\n",
              "      <td>222</td>\n",
              "      <td>False</td>\n",
              "      <td>False</td>\n",
              "      <td>4</td>\n",
              "      <td>False</td>\n",
              "      <td>True</td>\n",
              "      <td>0</td>\n",
              "      <td>1</td>\n",
              "      <td>2</td>\n",
              "      <td>0</td>\n",
              "      <td>0</td>\n",
              "      <td>not rumor</td>\n",
              "    </tr>\n",
              "    <tr>\n",
              "      <th>2</th>\n",
              "      <td>206</td>\n",
              "      <td>False</td>\n",
              "      <td>False</td>\n",
              "      <td>202</td>\n",
              "      <td>False</td>\n",
              "      <td>False</td>\n",
              "      <td>False</td>\n",
              "      <td>60</td>\n",
              "      <td>862.833333</td>\n",
              "      <td>0.984768</td>\n",
              "      <td>0.000097</td>\n",
              "      <td>51770</td>\n",
              "      <td>18102</td>\n",
              "      <td>5</td>\n",
              "      <td>False</td>\n",
              "      <td>False</td>\n",
              "      <td>18382</td>\n",
              "      <td>False</td>\n",
              "      <td>False</td>\n",
              "      <td>1</td>\n",
              "      <td>0</td>\n",
              "      <td>11</td>\n",
              "      <td>0</td>\n",
              "      <td>1</td>\n",
              "      <td>not rumor</td>\n",
              "    </tr>\n",
              "    <tr>\n",
              "      <th>3</th>\n",
              "      <td>58</td>\n",
              "      <td>False</td>\n",
              "      <td>False</td>\n",
              "      <td>0</td>\n",
              "      <td>False</td>\n",
              "      <td>False</td>\n",
              "      <td>True</td>\n",
              "      <td>1</td>\n",
              "      <td>465.000000</td>\n",
              "      <td>0.126316</td>\n",
              "      <td>1.896774</td>\n",
              "      <td>465</td>\n",
              "      <td>12</td>\n",
              "      <td>882</td>\n",
              "      <td>False</td>\n",
              "      <td>False</td>\n",
              "      <td>95</td>\n",
              "      <td>False</td>\n",
              "      <td>True</td>\n",
              "      <td>0</td>\n",
              "      <td>0</td>\n",
              "      <td>4</td>\n",
              "      <td>4</td>\n",
              "      <td>0</td>\n",
              "      <td>not rumor</td>\n",
              "    </tr>\n",
              "    <tr>\n",
              "      <th>4</th>\n",
              "      <td>60</td>\n",
              "      <td>False</td>\n",
              "      <td>False</td>\n",
              "      <td>0</td>\n",
              "      <td>False</td>\n",
              "      <td>True</td>\n",
              "      <td>False</td>\n",
              "      <td>24</td>\n",
              "      <td>21.416667</td>\n",
              "      <td>0.612903</td>\n",
              "      <td>0.110895</td>\n",
              "      <td>514</td>\n",
              "      <td>19</td>\n",
              "      <td>57</td>\n",
              "      <td>False</td>\n",
              "      <td>False</td>\n",
              "      <td>31</td>\n",
              "      <td>False</td>\n",
              "      <td>False</td>\n",
              "      <td>1</td>\n",
              "      <td>0</td>\n",
              "      <td>1</td>\n",
              "      <td>0</td>\n",
              "      <td>0</td>\n",
              "      <td>not rumor</td>\n",
              "    </tr>\n",
              "    <tr>\n",
              "      <th>...</th>\n",
              "      <td>...</td>\n",
              "      <td>...</td>\n",
              "      <td>...</td>\n",
              "      <td>...</td>\n",
              "      <td>...</td>\n",
              "      <td>...</td>\n",
              "      <td>...</td>\n",
              "      <td>...</td>\n",
              "      <td>...</td>\n",
              "      <td>...</td>\n",
              "      <td>...</td>\n",
              "      <td>...</td>\n",
              "      <td>...</td>\n",
              "      <td>...</td>\n",
              "      <td>...</td>\n",
              "      <td>...</td>\n",
              "      <td>...</td>\n",
              "      <td>...</td>\n",
              "      <td>...</td>\n",
              "      <td>...</td>\n",
              "      <td>...</td>\n",
              "      <td>...</td>\n",
              "      <td>...</td>\n",
              "      <td>...</td>\n",
              "      <td>...</td>\n",
              "    </tr>\n",
              "    <tr>\n",
              "      <th>2259</th>\n",
              "      <td>0</td>\n",
              "      <td>False</td>\n",
              "      <td>False</td>\n",
              "      <td>2</td>\n",
              "      <td>False</td>\n",
              "      <td>False</td>\n",
              "      <td>True</td>\n",
              "      <td>8</td>\n",
              "      <td>589.250000</td>\n",
              "      <td>0.000000</td>\n",
              "      <td>0.000000</td>\n",
              "      <td>4714</td>\n",
              "      <td>0</td>\n",
              "      <td>0</td>\n",
              "      <td>False</td>\n",
              "      <td>False</td>\n",
              "      <td>5039</td>\n",
              "      <td>False</td>\n",
              "      <td>True</td>\n",
              "      <td>1</td>\n",
              "      <td>1</td>\n",
              "      <td>2</td>\n",
              "      <td>0</td>\n",
              "      <td>0</td>\n",
              "      <td>rumor</td>\n",
              "    </tr>\n",
              "    <tr>\n",
              "      <th>2260</th>\n",
              "      <td>0</td>\n",
              "      <td>False</td>\n",
              "      <td>False</td>\n",
              "      <td>0</td>\n",
              "      <td>False</td>\n",
              "      <td>False</td>\n",
              "      <td>True</td>\n",
              "      <td>48</td>\n",
              "      <td>447.916667</td>\n",
              "      <td>0.107383</td>\n",
              "      <td>0.007302</td>\n",
              "      <td>21500</td>\n",
              "      <td>16</td>\n",
              "      <td>157</td>\n",
              "      <td>False</td>\n",
              "      <td>False</td>\n",
              "      <td>149</td>\n",
              "      <td>False</td>\n",
              "      <td>True</td>\n",
              "      <td>0</td>\n",
              "      <td>1</td>\n",
              "      <td>2</td>\n",
              "      <td>0</td>\n",
              "      <td>0</td>\n",
              "      <td>rumor</td>\n",
              "    </tr>\n",
              "    <tr>\n",
              "      <th>2261</th>\n",
              "      <td>0</td>\n",
              "      <td>False</td>\n",
              "      <td>False</td>\n",
              "      <td>0</td>\n",
              "      <td>False</td>\n",
              "      <td>False</td>\n",
              "      <td>True</td>\n",
              "      <td>48</td>\n",
              "      <td>2166.666667</td>\n",
              "      <td>0.000751</td>\n",
              "      <td>0.000067</td>\n",
              "      <td>104000</td>\n",
              "      <td>139</td>\n",
              "      <td>7</td>\n",
              "      <td>False</td>\n",
              "      <td>False</td>\n",
              "      <td>185000</td>\n",
              "      <td>False</td>\n",
              "      <td>True</td>\n",
              "      <td>1</td>\n",
              "      <td>1</td>\n",
              "      <td>3</td>\n",
              "      <td>0</td>\n",
              "      <td>0</td>\n",
              "      <td>rumor</td>\n",
              "    </tr>\n",
              "    <tr>\n",
              "      <th>2262</th>\n",
              "      <td>0</td>\n",
              "      <td>False</td>\n",
              "      <td>False</td>\n",
              "      <td>5</td>\n",
              "      <td>False</td>\n",
              "      <td>True</td>\n",
              "      <td>True</td>\n",
              "      <td>72</td>\n",
              "      <td>188.888889</td>\n",
              "      <td>0.260032</td>\n",
              "      <td>0.170956</td>\n",
              "      <td>13600</td>\n",
              "      <td>162</td>\n",
              "      <td>2325</td>\n",
              "      <td>False</td>\n",
              "      <td>True</td>\n",
              "      <td>623</td>\n",
              "      <td>False</td>\n",
              "      <td>False</td>\n",
              "      <td>0</td>\n",
              "      <td>0</td>\n",
              "      <td>3</td>\n",
              "      <td>0</td>\n",
              "      <td>0</td>\n",
              "      <td>rumor</td>\n",
              "    </tr>\n",
              "    <tr>\n",
              "      <th>2263</th>\n",
              "      <td>3</td>\n",
              "      <td>True</td>\n",
              "      <td>False</td>\n",
              "      <td>3</td>\n",
              "      <td>False</td>\n",
              "      <td>True</td>\n",
              "      <td>True</td>\n",
              "      <td>48</td>\n",
              "      <td>104.583333</td>\n",
              "      <td>0.634703</td>\n",
              "      <td>0.156175</td>\n",
              "      <td>5020</td>\n",
              "      <td>278</td>\n",
              "      <td>784</td>\n",
              "      <td>False</td>\n",
              "      <td>True</td>\n",
              "      <td>438</td>\n",
              "      <td>True</td>\n",
              "      <td>True</td>\n",
              "      <td>0</td>\n",
              "      <td>0</td>\n",
              "      <td>2</td>\n",
              "      <td>0</td>\n",
              "      <td>0</td>\n",
              "      <td>rumor</td>\n",
              "    </tr>\n",
              "  </tbody>\n",
              "</table>\n",
              "<p>2264 rows × 25 columns</p>\n",
              "</div>"
            ],
            "text/plain": [
              "      Retweet_Count  Favorited  Retweeted  ...  Question_Mark  Phone_num     Result\n",
              "0                 3      False      False  ...              0          0  not rumor\n",
              "1                 0      False      False  ...              0          0  not rumor\n",
              "2               206      False      False  ...              0          1  not rumor\n",
              "3                58      False      False  ...              4          0  not rumor\n",
              "4                60      False      False  ...              0          0  not rumor\n",
              "...             ...        ...        ...  ...            ...        ...        ...\n",
              "2259              0      False      False  ...              0          0      rumor\n",
              "2260              0      False      False  ...              0          0      rumor\n",
              "2261              0      False      False  ...              0          0      rumor\n",
              "2262              0      False      False  ...              0          0      rumor\n",
              "2263              3       True      False  ...              0          0      rumor\n",
              "\n",
              "[2264 rows x 25 columns]"
            ]
          },
          "metadata": {}
        }
      ]
    },
    {
      "cell_type": "code",
      "metadata": {
        "id": "dV5UojSY7xqx",
        "colab": {
          "base_uri": "https://localhost:8080/",
          "height": 444
        },
        "outputId": "77dd4086-5d7a-4031-c005-cdd8a48b473a"
      },
      "source": [
        "df=df.round()\n",
        "df"
      ],
      "execution_count": null,
      "outputs": [
        {
          "output_type": "execute_result",
          "data": {
            "text/html": [
              "<div>\n",
              "<style scoped>\n",
              "    .dataframe tbody tr th:only-of-type {\n",
              "        vertical-align: middle;\n",
              "    }\n",
              "\n",
              "    .dataframe tbody tr th {\n",
              "        vertical-align: top;\n",
              "    }\n",
              "\n",
              "    .dataframe thead th {\n",
              "        text-align: right;\n",
              "    }\n",
              "</style>\n",
              "<table border=\"1\" class=\"dataframe\">\n",
              "  <thead>\n",
              "    <tr style=\"text-align: right;\">\n",
              "      <th></th>\n",
              "      <th>Retweet_Count</th>\n",
              "      <th>Favorited</th>\n",
              "      <th>Retweeted</th>\n",
              "      <th>Lists</th>\n",
              "      <th>Verified</th>\n",
              "      <th>Location</th>\n",
              "      <th>Description</th>\n",
              "      <th>Time_span</th>\n",
              "      <th>E_score</th>\n",
              "      <th>Followers_Friends</th>\n",
              "      <th>Favorite_Statu</th>\n",
              "      <th>Status_count</th>\n",
              "      <th>Followers</th>\n",
              "      <th>Fovorites_count</th>\n",
              "      <th>Protected</th>\n",
              "      <th>Name</th>\n",
              "      <th>Friends</th>\n",
              "      <th>Screen_name</th>\n",
              "      <th>Matching</th>\n",
              "      <th>Multimidia</th>\n",
              "      <th>URL</th>\n",
              "      <th>Hashtags</th>\n",
              "      <th>Question_Mark</th>\n",
              "      <th>Phone_num</th>\n",
              "      <th>Result</th>\n",
              "    </tr>\n",
              "  </thead>\n",
              "  <tbody>\n",
              "    <tr>\n",
              "      <th>0</th>\n",
              "      <td>3</td>\n",
              "      <td>0</td>\n",
              "      <td>0</td>\n",
              "      <td>2</td>\n",
              "      <td>0</td>\n",
              "      <td>0</td>\n",
              "      <td>1</td>\n",
              "      <td>72</td>\n",
              "      <td>138.0</td>\n",
              "      <td>1.0</td>\n",
              "      <td>0.0</td>\n",
              "      <td>9918</td>\n",
              "      <td>698</td>\n",
              "      <td>465</td>\n",
              "      <td>0</td>\n",
              "      <td>1</td>\n",
              "      <td>771</td>\n",
              "      <td>1</td>\n",
              "      <td>1</td>\n",
              "      <td>0</td>\n",
              "      <td>1</td>\n",
              "      <td>1</td>\n",
              "      <td>0</td>\n",
              "      <td>0</td>\n",
              "      <td>0</td>\n",
              "    </tr>\n",
              "    <tr>\n",
              "      <th>1</th>\n",
              "      <td>0</td>\n",
              "      <td>0</td>\n",
              "      <td>0</td>\n",
              "      <td>0</td>\n",
              "      <td>0</td>\n",
              "      <td>0</td>\n",
              "      <td>1</td>\n",
              "      <td>3</td>\n",
              "      <td>6.0</td>\n",
              "      <td>360.0</td>\n",
              "      <td>13.0</td>\n",
              "      <td>17</td>\n",
              "      <td>1441</td>\n",
              "      <td>222</td>\n",
              "      <td>0</td>\n",
              "      <td>0</td>\n",
              "      <td>4</td>\n",
              "      <td>0</td>\n",
              "      <td>1</td>\n",
              "      <td>0</td>\n",
              "      <td>1</td>\n",
              "      <td>2</td>\n",
              "      <td>0</td>\n",
              "      <td>0</td>\n",
              "      <td>0</td>\n",
              "    </tr>\n",
              "    <tr>\n",
              "      <th>2</th>\n",
              "      <td>206</td>\n",
              "      <td>0</td>\n",
              "      <td>0</td>\n",
              "      <td>202</td>\n",
              "      <td>0</td>\n",
              "      <td>0</td>\n",
              "      <td>0</td>\n",
              "      <td>60</td>\n",
              "      <td>863.0</td>\n",
              "      <td>1.0</td>\n",
              "      <td>0.0</td>\n",
              "      <td>51770</td>\n",
              "      <td>18102</td>\n",
              "      <td>5</td>\n",
              "      <td>0</td>\n",
              "      <td>0</td>\n",
              "      <td>18382</td>\n",
              "      <td>0</td>\n",
              "      <td>0</td>\n",
              "      <td>1</td>\n",
              "      <td>0</td>\n",
              "      <td>11</td>\n",
              "      <td>0</td>\n",
              "      <td>1</td>\n",
              "      <td>0</td>\n",
              "    </tr>\n",
              "    <tr>\n",
              "      <th>3</th>\n",
              "      <td>58</td>\n",
              "      <td>0</td>\n",
              "      <td>0</td>\n",
              "      <td>0</td>\n",
              "      <td>0</td>\n",
              "      <td>0</td>\n",
              "      <td>1</td>\n",
              "      <td>1</td>\n",
              "      <td>465.0</td>\n",
              "      <td>0.0</td>\n",
              "      <td>2.0</td>\n",
              "      <td>465</td>\n",
              "      <td>12</td>\n",
              "      <td>882</td>\n",
              "      <td>0</td>\n",
              "      <td>0</td>\n",
              "      <td>95</td>\n",
              "      <td>0</td>\n",
              "      <td>1</td>\n",
              "      <td>0</td>\n",
              "      <td>0</td>\n",
              "      <td>4</td>\n",
              "      <td>4</td>\n",
              "      <td>0</td>\n",
              "      <td>0</td>\n",
              "    </tr>\n",
              "    <tr>\n",
              "      <th>4</th>\n",
              "      <td>60</td>\n",
              "      <td>0</td>\n",
              "      <td>0</td>\n",
              "      <td>0</td>\n",
              "      <td>0</td>\n",
              "      <td>1</td>\n",
              "      <td>0</td>\n",
              "      <td>24</td>\n",
              "      <td>21.0</td>\n",
              "      <td>1.0</td>\n",
              "      <td>0.0</td>\n",
              "      <td>514</td>\n",
              "      <td>19</td>\n",
              "      <td>57</td>\n",
              "      <td>0</td>\n",
              "      <td>0</td>\n",
              "      <td>31</td>\n",
              "      <td>0</td>\n",
              "      <td>0</td>\n",
              "      <td>1</td>\n",
              "      <td>0</td>\n",
              "      <td>1</td>\n",
              "      <td>0</td>\n",
              "      <td>0</td>\n",
              "      <td>0</td>\n",
              "    </tr>\n",
              "    <tr>\n",
              "      <th>...</th>\n",
              "      <td>...</td>\n",
              "      <td>...</td>\n",
              "      <td>...</td>\n",
              "      <td>...</td>\n",
              "      <td>...</td>\n",
              "      <td>...</td>\n",
              "      <td>...</td>\n",
              "      <td>...</td>\n",
              "      <td>...</td>\n",
              "      <td>...</td>\n",
              "      <td>...</td>\n",
              "      <td>...</td>\n",
              "      <td>...</td>\n",
              "      <td>...</td>\n",
              "      <td>...</td>\n",
              "      <td>...</td>\n",
              "      <td>...</td>\n",
              "      <td>...</td>\n",
              "      <td>...</td>\n",
              "      <td>...</td>\n",
              "      <td>...</td>\n",
              "      <td>...</td>\n",
              "      <td>...</td>\n",
              "      <td>...</td>\n",
              "      <td>...</td>\n",
              "    </tr>\n",
              "    <tr>\n",
              "      <th>2259</th>\n",
              "      <td>0</td>\n",
              "      <td>0</td>\n",
              "      <td>0</td>\n",
              "      <td>2</td>\n",
              "      <td>0</td>\n",
              "      <td>0</td>\n",
              "      <td>1</td>\n",
              "      <td>8</td>\n",
              "      <td>589.0</td>\n",
              "      <td>0.0</td>\n",
              "      <td>0.0</td>\n",
              "      <td>4714</td>\n",
              "      <td>0</td>\n",
              "      <td>0</td>\n",
              "      <td>0</td>\n",
              "      <td>0</td>\n",
              "      <td>5039</td>\n",
              "      <td>0</td>\n",
              "      <td>1</td>\n",
              "      <td>1</td>\n",
              "      <td>1</td>\n",
              "      <td>2</td>\n",
              "      <td>0</td>\n",
              "      <td>0</td>\n",
              "      <td>1</td>\n",
              "    </tr>\n",
              "    <tr>\n",
              "      <th>2260</th>\n",
              "      <td>0</td>\n",
              "      <td>0</td>\n",
              "      <td>0</td>\n",
              "      <td>0</td>\n",
              "      <td>0</td>\n",
              "      <td>0</td>\n",
              "      <td>1</td>\n",
              "      <td>48</td>\n",
              "      <td>448.0</td>\n",
              "      <td>0.0</td>\n",
              "      <td>0.0</td>\n",
              "      <td>21500</td>\n",
              "      <td>16</td>\n",
              "      <td>157</td>\n",
              "      <td>0</td>\n",
              "      <td>0</td>\n",
              "      <td>149</td>\n",
              "      <td>0</td>\n",
              "      <td>1</td>\n",
              "      <td>0</td>\n",
              "      <td>1</td>\n",
              "      <td>2</td>\n",
              "      <td>0</td>\n",
              "      <td>0</td>\n",
              "      <td>1</td>\n",
              "    </tr>\n",
              "    <tr>\n",
              "      <th>2261</th>\n",
              "      <td>0</td>\n",
              "      <td>0</td>\n",
              "      <td>0</td>\n",
              "      <td>0</td>\n",
              "      <td>0</td>\n",
              "      <td>0</td>\n",
              "      <td>1</td>\n",
              "      <td>48</td>\n",
              "      <td>2167.0</td>\n",
              "      <td>0.0</td>\n",
              "      <td>0.0</td>\n",
              "      <td>104000</td>\n",
              "      <td>139</td>\n",
              "      <td>7</td>\n",
              "      <td>0</td>\n",
              "      <td>0</td>\n",
              "      <td>185000</td>\n",
              "      <td>0</td>\n",
              "      <td>1</td>\n",
              "      <td>1</td>\n",
              "      <td>1</td>\n",
              "      <td>3</td>\n",
              "      <td>0</td>\n",
              "      <td>0</td>\n",
              "      <td>1</td>\n",
              "    </tr>\n",
              "    <tr>\n",
              "      <th>2262</th>\n",
              "      <td>0</td>\n",
              "      <td>0</td>\n",
              "      <td>0</td>\n",
              "      <td>5</td>\n",
              "      <td>0</td>\n",
              "      <td>1</td>\n",
              "      <td>1</td>\n",
              "      <td>72</td>\n",
              "      <td>189.0</td>\n",
              "      <td>0.0</td>\n",
              "      <td>0.0</td>\n",
              "      <td>13600</td>\n",
              "      <td>162</td>\n",
              "      <td>2325</td>\n",
              "      <td>0</td>\n",
              "      <td>1</td>\n",
              "      <td>623</td>\n",
              "      <td>0</td>\n",
              "      <td>0</td>\n",
              "      <td>0</td>\n",
              "      <td>0</td>\n",
              "      <td>3</td>\n",
              "      <td>0</td>\n",
              "      <td>0</td>\n",
              "      <td>1</td>\n",
              "    </tr>\n",
              "    <tr>\n",
              "      <th>2263</th>\n",
              "      <td>3</td>\n",
              "      <td>1</td>\n",
              "      <td>0</td>\n",
              "      <td>3</td>\n",
              "      <td>0</td>\n",
              "      <td>1</td>\n",
              "      <td>1</td>\n",
              "      <td>48</td>\n",
              "      <td>105.0</td>\n",
              "      <td>1.0</td>\n",
              "      <td>0.0</td>\n",
              "      <td>5020</td>\n",
              "      <td>278</td>\n",
              "      <td>784</td>\n",
              "      <td>0</td>\n",
              "      <td>1</td>\n",
              "      <td>438</td>\n",
              "      <td>1</td>\n",
              "      <td>1</td>\n",
              "      <td>0</td>\n",
              "      <td>0</td>\n",
              "      <td>2</td>\n",
              "      <td>0</td>\n",
              "      <td>0</td>\n",
              "      <td>1</td>\n",
              "    </tr>\n",
              "  </tbody>\n",
              "</table>\n",
              "<p>2264 rows × 25 columns</p>\n",
              "</div>"
            ],
            "text/plain": [
              "      Retweet_Count  Favorited  Retweeted  ...  Question_Mark  Phone_num  Result\n",
              "0                 3          0          0  ...              0          0       0\n",
              "1                 0          0          0  ...              0          0       0\n",
              "2               206          0          0  ...              0          1       0\n",
              "3                58          0          0  ...              4          0       0\n",
              "4                60          0          0  ...              0          0       0\n",
              "...             ...        ...        ...  ...            ...        ...     ...\n",
              "2259              0          0          0  ...              0          0       1\n",
              "2260              0          0          0  ...              0          0       1\n",
              "2261              0          0          0  ...              0          0       1\n",
              "2262              0          0          0  ...              0          0       1\n",
              "2263              3          1          0  ...              0          0       1\n",
              "\n",
              "[2264 rows x 25 columns]"
            ]
          },
          "metadata": {},
          "execution_count": 38
        }
      ]
    },
    {
      "cell_type": "code",
      "metadata": {
        "id": "-y-7CbiN7xqy"
      },
      "source": [
        "df['Result'].value_counts().plot(kind='bar')"
      ],
      "execution_count": null,
      "outputs": []
    },
    {
      "cell_type": "code",
      "metadata": {
        "scrolled": false,
        "id": "myZxS8Z57xqz"
      },
      "source": [
        "fig=pd.plotting.scatter_matrix(df[['Retweet_Count', 'Lists', \n",
        "       'Time_span', 'E_score', 'Followers_Friends',\n",
        "       'Favorite_Statu', 'Status_count', 'Followers', 'Fovorites_count',\n",
        "       'Friends']], alpha=0.2 , figsize =(18.5, 13.5) )"
      ],
      "execution_count": null,
      "outputs": []
    },
    {
      "cell_type": "code",
      "metadata": {
        "id": "q17_d4jC7xq0"
      },
      "source": [
        "sns.pairplot(df,hue='Result',palette='Dark2')"
      ],
      "execution_count": null,
      "outputs": []
    },
    {
      "cell_type": "code",
      "metadata": {
        "id": "gUFJx67s7xq2"
      },
      "source": [
        "df['Result']=df['Result'].replace(['rumor','not rumor'],[1,0])"
      ],
      "execution_count": null,
      "outputs": []
    },
    {
      "cell_type": "code",
      "metadata": {
        "id": "hj_YvpIM7xq2"
      },
      "source": [
        "df.replace({False: 0, True: 1}, inplace=True)"
      ],
      "execution_count": null,
      "outputs": []
    },
    {
      "cell_type": "code",
      "metadata": {
        "id": "pUpcMq8H7xq2",
        "colab": {
          "base_uri": "https://localhost:8080/",
          "height": 444
        },
        "outputId": "3145ec04-1194-492b-c7b2-2c699bb2c452"
      },
      "source": [
        "df"
      ],
      "execution_count": null,
      "outputs": [
        {
          "output_type": "execute_result",
          "data": {
            "text/html": [
              "<div>\n",
              "<style scoped>\n",
              "    .dataframe tbody tr th:only-of-type {\n",
              "        vertical-align: middle;\n",
              "    }\n",
              "\n",
              "    .dataframe tbody tr th {\n",
              "        vertical-align: top;\n",
              "    }\n",
              "\n",
              "    .dataframe thead th {\n",
              "        text-align: right;\n",
              "    }\n",
              "</style>\n",
              "<table border=\"1\" class=\"dataframe\">\n",
              "  <thead>\n",
              "    <tr style=\"text-align: right;\">\n",
              "      <th></th>\n",
              "      <th>Retweet_Count</th>\n",
              "      <th>Favorited</th>\n",
              "      <th>Retweeted</th>\n",
              "      <th>Lists</th>\n",
              "      <th>Verified</th>\n",
              "      <th>Location</th>\n",
              "      <th>Description</th>\n",
              "      <th>Time_span</th>\n",
              "      <th>E_score</th>\n",
              "      <th>Followers_Friends</th>\n",
              "      <th>Favorite_Statu</th>\n",
              "      <th>Status_count</th>\n",
              "      <th>Followers</th>\n",
              "      <th>Fovorites_count</th>\n",
              "      <th>Protected</th>\n",
              "      <th>Name</th>\n",
              "      <th>Friends</th>\n",
              "      <th>Screen_name</th>\n",
              "      <th>Matching</th>\n",
              "      <th>Multimidia</th>\n",
              "      <th>URL</th>\n",
              "      <th>Hashtags</th>\n",
              "      <th>Question_Mark</th>\n",
              "      <th>Phone_num</th>\n",
              "      <th>Result</th>\n",
              "    </tr>\n",
              "  </thead>\n",
              "  <tbody>\n",
              "    <tr>\n",
              "      <th>0</th>\n",
              "      <td>3</td>\n",
              "      <td>0</td>\n",
              "      <td>0</td>\n",
              "      <td>2</td>\n",
              "      <td>0</td>\n",
              "      <td>0</td>\n",
              "      <td>1</td>\n",
              "      <td>72</td>\n",
              "      <td>137.750000</td>\n",
              "      <td>0.905318</td>\n",
              "      <td>0.046884</td>\n",
              "      <td>9918</td>\n",
              "      <td>698</td>\n",
              "      <td>465</td>\n",
              "      <td>0</td>\n",
              "      <td>1</td>\n",
              "      <td>771</td>\n",
              "      <td>1</td>\n",
              "      <td>1</td>\n",
              "      <td>0</td>\n",
              "      <td>1</td>\n",
              "      <td>1</td>\n",
              "      <td>0</td>\n",
              "      <td>0</td>\n",
              "      <td>0</td>\n",
              "    </tr>\n",
              "    <tr>\n",
              "      <th>1</th>\n",
              "      <td>0</td>\n",
              "      <td>0</td>\n",
              "      <td>0</td>\n",
              "      <td>0</td>\n",
              "      <td>0</td>\n",
              "      <td>0</td>\n",
              "      <td>1</td>\n",
              "      <td>3</td>\n",
              "      <td>5.666667</td>\n",
              "      <td>360.250000</td>\n",
              "      <td>13.058824</td>\n",
              "      <td>17</td>\n",
              "      <td>1441</td>\n",
              "      <td>222</td>\n",
              "      <td>0</td>\n",
              "      <td>0</td>\n",
              "      <td>4</td>\n",
              "      <td>0</td>\n",
              "      <td>1</td>\n",
              "      <td>0</td>\n",
              "      <td>1</td>\n",
              "      <td>2</td>\n",
              "      <td>0</td>\n",
              "      <td>0</td>\n",
              "      <td>0</td>\n",
              "    </tr>\n",
              "    <tr>\n",
              "      <th>2</th>\n",
              "      <td>206</td>\n",
              "      <td>0</td>\n",
              "      <td>0</td>\n",
              "      <td>202</td>\n",
              "      <td>0</td>\n",
              "      <td>0</td>\n",
              "      <td>0</td>\n",
              "      <td>60</td>\n",
              "      <td>862.833333</td>\n",
              "      <td>0.984768</td>\n",
              "      <td>0.000097</td>\n",
              "      <td>51770</td>\n",
              "      <td>18102</td>\n",
              "      <td>5</td>\n",
              "      <td>0</td>\n",
              "      <td>0</td>\n",
              "      <td>18382</td>\n",
              "      <td>0</td>\n",
              "      <td>0</td>\n",
              "      <td>1</td>\n",
              "      <td>0</td>\n",
              "      <td>11</td>\n",
              "      <td>0</td>\n",
              "      <td>1</td>\n",
              "      <td>0</td>\n",
              "    </tr>\n",
              "    <tr>\n",
              "      <th>3</th>\n",
              "      <td>58</td>\n",
              "      <td>0</td>\n",
              "      <td>0</td>\n",
              "      <td>0</td>\n",
              "      <td>0</td>\n",
              "      <td>0</td>\n",
              "      <td>1</td>\n",
              "      <td>1</td>\n",
              "      <td>465.000000</td>\n",
              "      <td>0.126316</td>\n",
              "      <td>1.896774</td>\n",
              "      <td>465</td>\n",
              "      <td>12</td>\n",
              "      <td>882</td>\n",
              "      <td>0</td>\n",
              "      <td>0</td>\n",
              "      <td>95</td>\n",
              "      <td>0</td>\n",
              "      <td>1</td>\n",
              "      <td>0</td>\n",
              "      <td>0</td>\n",
              "      <td>4</td>\n",
              "      <td>4</td>\n",
              "      <td>0</td>\n",
              "      <td>0</td>\n",
              "    </tr>\n",
              "    <tr>\n",
              "      <th>4</th>\n",
              "      <td>60</td>\n",
              "      <td>0</td>\n",
              "      <td>0</td>\n",
              "      <td>0</td>\n",
              "      <td>0</td>\n",
              "      <td>1</td>\n",
              "      <td>0</td>\n",
              "      <td>24</td>\n",
              "      <td>21.416667</td>\n",
              "      <td>0.612903</td>\n",
              "      <td>0.110895</td>\n",
              "      <td>514</td>\n",
              "      <td>19</td>\n",
              "      <td>57</td>\n",
              "      <td>0</td>\n",
              "      <td>0</td>\n",
              "      <td>31</td>\n",
              "      <td>0</td>\n",
              "      <td>0</td>\n",
              "      <td>1</td>\n",
              "      <td>0</td>\n",
              "      <td>1</td>\n",
              "      <td>0</td>\n",
              "      <td>0</td>\n",
              "      <td>0</td>\n",
              "    </tr>\n",
              "    <tr>\n",
              "      <th>...</th>\n",
              "      <td>...</td>\n",
              "      <td>...</td>\n",
              "      <td>...</td>\n",
              "      <td>...</td>\n",
              "      <td>...</td>\n",
              "      <td>...</td>\n",
              "      <td>...</td>\n",
              "      <td>...</td>\n",
              "      <td>...</td>\n",
              "      <td>...</td>\n",
              "      <td>...</td>\n",
              "      <td>...</td>\n",
              "      <td>...</td>\n",
              "      <td>...</td>\n",
              "      <td>...</td>\n",
              "      <td>...</td>\n",
              "      <td>...</td>\n",
              "      <td>...</td>\n",
              "      <td>...</td>\n",
              "      <td>...</td>\n",
              "      <td>...</td>\n",
              "      <td>...</td>\n",
              "      <td>...</td>\n",
              "      <td>...</td>\n",
              "      <td>...</td>\n",
              "    </tr>\n",
              "    <tr>\n",
              "      <th>2259</th>\n",
              "      <td>0</td>\n",
              "      <td>0</td>\n",
              "      <td>0</td>\n",
              "      <td>2</td>\n",
              "      <td>0</td>\n",
              "      <td>0</td>\n",
              "      <td>1</td>\n",
              "      <td>8</td>\n",
              "      <td>589.250000</td>\n",
              "      <td>0.000000</td>\n",
              "      <td>0.000000</td>\n",
              "      <td>4714</td>\n",
              "      <td>0</td>\n",
              "      <td>0</td>\n",
              "      <td>0</td>\n",
              "      <td>0</td>\n",
              "      <td>5039</td>\n",
              "      <td>0</td>\n",
              "      <td>1</td>\n",
              "      <td>1</td>\n",
              "      <td>1</td>\n",
              "      <td>2</td>\n",
              "      <td>0</td>\n",
              "      <td>0</td>\n",
              "      <td>1</td>\n",
              "    </tr>\n",
              "    <tr>\n",
              "      <th>2260</th>\n",
              "      <td>0</td>\n",
              "      <td>0</td>\n",
              "      <td>0</td>\n",
              "      <td>0</td>\n",
              "      <td>0</td>\n",
              "      <td>0</td>\n",
              "      <td>1</td>\n",
              "      <td>48</td>\n",
              "      <td>447.916667</td>\n",
              "      <td>0.107383</td>\n",
              "      <td>0.007302</td>\n",
              "      <td>21500</td>\n",
              "      <td>16</td>\n",
              "      <td>157</td>\n",
              "      <td>0</td>\n",
              "      <td>0</td>\n",
              "      <td>149</td>\n",
              "      <td>0</td>\n",
              "      <td>1</td>\n",
              "      <td>0</td>\n",
              "      <td>1</td>\n",
              "      <td>2</td>\n",
              "      <td>0</td>\n",
              "      <td>0</td>\n",
              "      <td>1</td>\n",
              "    </tr>\n",
              "    <tr>\n",
              "      <th>2261</th>\n",
              "      <td>0</td>\n",
              "      <td>0</td>\n",
              "      <td>0</td>\n",
              "      <td>0</td>\n",
              "      <td>0</td>\n",
              "      <td>0</td>\n",
              "      <td>1</td>\n",
              "      <td>48</td>\n",
              "      <td>2166.666667</td>\n",
              "      <td>0.000751</td>\n",
              "      <td>0.000067</td>\n",
              "      <td>104000</td>\n",
              "      <td>139</td>\n",
              "      <td>7</td>\n",
              "      <td>0</td>\n",
              "      <td>0</td>\n",
              "      <td>185000</td>\n",
              "      <td>0</td>\n",
              "      <td>1</td>\n",
              "      <td>1</td>\n",
              "      <td>1</td>\n",
              "      <td>3</td>\n",
              "      <td>0</td>\n",
              "      <td>0</td>\n",
              "      <td>1</td>\n",
              "    </tr>\n",
              "    <tr>\n",
              "      <th>2262</th>\n",
              "      <td>0</td>\n",
              "      <td>0</td>\n",
              "      <td>0</td>\n",
              "      <td>5</td>\n",
              "      <td>0</td>\n",
              "      <td>1</td>\n",
              "      <td>1</td>\n",
              "      <td>72</td>\n",
              "      <td>188.888889</td>\n",
              "      <td>0.260032</td>\n",
              "      <td>0.170956</td>\n",
              "      <td>13600</td>\n",
              "      <td>162</td>\n",
              "      <td>2325</td>\n",
              "      <td>0</td>\n",
              "      <td>1</td>\n",
              "      <td>623</td>\n",
              "      <td>0</td>\n",
              "      <td>0</td>\n",
              "      <td>0</td>\n",
              "      <td>0</td>\n",
              "      <td>3</td>\n",
              "      <td>0</td>\n",
              "      <td>0</td>\n",
              "      <td>1</td>\n",
              "    </tr>\n",
              "    <tr>\n",
              "      <th>2263</th>\n",
              "      <td>3</td>\n",
              "      <td>1</td>\n",
              "      <td>0</td>\n",
              "      <td>3</td>\n",
              "      <td>0</td>\n",
              "      <td>1</td>\n",
              "      <td>1</td>\n",
              "      <td>48</td>\n",
              "      <td>104.583333</td>\n",
              "      <td>0.634703</td>\n",
              "      <td>0.156175</td>\n",
              "      <td>5020</td>\n",
              "      <td>278</td>\n",
              "      <td>784</td>\n",
              "      <td>0</td>\n",
              "      <td>1</td>\n",
              "      <td>438</td>\n",
              "      <td>1</td>\n",
              "      <td>1</td>\n",
              "      <td>0</td>\n",
              "      <td>0</td>\n",
              "      <td>2</td>\n",
              "      <td>0</td>\n",
              "      <td>0</td>\n",
              "      <td>1</td>\n",
              "    </tr>\n",
              "  </tbody>\n",
              "</table>\n",
              "<p>2264 rows × 25 columns</p>\n",
              "</div>"
            ],
            "text/plain": [
              "      Retweet_Count  Favorited  Retweeted  ...  Question_Mark  Phone_num  Result\n",
              "0                 3          0          0  ...              0          0       0\n",
              "1                 0          0          0  ...              0          0       0\n",
              "2               206          0          0  ...              0          1       0\n",
              "3                58          0          0  ...              4          0       0\n",
              "4                60          0          0  ...              0          0       0\n",
              "...             ...        ...        ...  ...            ...        ...     ...\n",
              "2259              0          0          0  ...              0          0       1\n",
              "2260              0          0          0  ...              0          0       1\n",
              "2261              0          0          0  ...              0          0       1\n",
              "2262              0          0          0  ...              0          0       1\n",
              "2263              3          1          0  ...              0          0       1\n",
              "\n",
              "[2264 rows x 25 columns]"
            ]
          },
          "metadata": {},
          "execution_count": 22
        }
      ]
    },
    {
      "cell_type": "markdown",
      "metadata": {
        "id": "cLg4pURm7xq4"
      },
      "source": [
        "# Feature Selection "
      ]
    },
    {
      "cell_type": "markdown",
      "metadata": {
        "id": "rtgcCoc1v5Am"
      },
      "source": [
        "######################"
      ]
    },
    {
      "cell_type": "markdown",
      "metadata": {
        "id": "HNUw1IE67xq5"
      },
      "source": [
        "# Features Correlation "
      ]
    },
    {
      "cell_type": "code",
      "metadata": {
        "id": "hne7_NUB7xq5",
        "colab": {
          "base_uri": "https://localhost:8080/",
          "height": 853
        },
        "outputId": "3d2a43af-563b-49ea-f585-22a8c561bfa4"
      },
      "source": [
        "df.corr()"
      ],
      "execution_count": null,
      "outputs": [
        {
          "output_type": "execute_result",
          "data": {
            "text/html": [
              "<div>\n",
              "<style scoped>\n",
              "    .dataframe tbody tr th:only-of-type {\n",
              "        vertical-align: middle;\n",
              "    }\n",
              "\n",
              "    .dataframe tbody tr th {\n",
              "        vertical-align: top;\n",
              "    }\n",
              "\n",
              "    .dataframe thead th {\n",
              "        text-align: right;\n",
              "    }\n",
              "</style>\n",
              "<table border=\"1\" class=\"dataframe\">\n",
              "  <thead>\n",
              "    <tr style=\"text-align: right;\">\n",
              "      <th></th>\n",
              "      <th>Retweet_Count</th>\n",
              "      <th>Favorited</th>\n",
              "      <th>Retweeted</th>\n",
              "      <th>Lists</th>\n",
              "      <th>Verified</th>\n",
              "      <th>Location</th>\n",
              "      <th>Description</th>\n",
              "      <th>Time_span</th>\n",
              "      <th>E_score</th>\n",
              "      <th>Followers_Friends</th>\n",
              "      <th>Favorite_Statu</th>\n",
              "      <th>Status_count</th>\n",
              "      <th>Followers</th>\n",
              "      <th>Fovorites_count</th>\n",
              "      <th>Protected</th>\n",
              "      <th>Name</th>\n",
              "      <th>Friends</th>\n",
              "      <th>Screen_name</th>\n",
              "      <th>Matching</th>\n",
              "      <th>Multimidia</th>\n",
              "      <th>URL</th>\n",
              "      <th>Hashtags</th>\n",
              "      <th>Question_Mark</th>\n",
              "      <th>Phone_num</th>\n",
              "      <th>Result</th>\n",
              "    </tr>\n",
              "  </thead>\n",
              "  <tbody>\n",
              "    <tr>\n",
              "      <th>Retweet_Count</th>\n",
              "      <td>1.000000</td>\n",
              "      <td>0.071492</td>\n",
              "      <td>-0.001089</td>\n",
              "      <td>0.002674</td>\n",
              "      <td>-0.005131</td>\n",
              "      <td>-0.009592</td>\n",
              "      <td>0.003410</td>\n",
              "      <td>0.045148</td>\n",
              "      <td>0.002440</td>\n",
              "      <td>-0.003323</td>\n",
              "      <td>-0.006534</td>\n",
              "      <td>0.017866</td>\n",
              "      <td>-0.005355</td>\n",
              "      <td>-0.003349</td>\n",
              "      <td>0.002081</td>\n",
              "      <td>0.027077</td>\n",
              "      <td>0.001784</td>\n",
              "      <td>0.031766</td>\n",
              "      <td>0.027991</td>\n",
              "      <td>-0.006864</td>\n",
              "      <td>-0.010051</td>\n",
              "      <td>-0.019738</td>\n",
              "      <td>-0.006195</td>\n",
              "      <td>-0.003546</td>\n",
              "      <td>0.042879</td>\n",
              "    </tr>\n",
              "    <tr>\n",
              "      <th>Favorited</th>\n",
              "      <td>0.071492</td>\n",
              "      <td>1.000000</td>\n",
              "      <td>0.044775</td>\n",
              "      <td>0.002711</td>\n",
              "      <td>-0.023806</td>\n",
              "      <td>0.092314</td>\n",
              "      <td>0.090011</td>\n",
              "      <td>0.098286</td>\n",
              "      <td>-0.054525</td>\n",
              "      <td>-0.012768</td>\n",
              "      <td>-0.005431</td>\n",
              "      <td>-0.011538</td>\n",
              "      <td>-0.003179</td>\n",
              "      <td>0.007465</td>\n",
              "      <td>-0.010993</td>\n",
              "      <td>0.087318</td>\n",
              "      <td>0.096262</td>\n",
              "      <td>0.105269</td>\n",
              "      <td>0.101165</td>\n",
              "      <td>0.038045</td>\n",
              "      <td>0.043648</td>\n",
              "      <td>-0.061514</td>\n",
              "      <td>-0.039989</td>\n",
              "      <td>-0.050155</td>\n",
              "      <td>0.716477</td>\n",
              "    </tr>\n",
              "    <tr>\n",
              "      <th>Retweeted</th>\n",
              "      <td>-0.001089</td>\n",
              "      <td>0.044775</td>\n",
              "      <td>1.000000</td>\n",
              "      <td>0.005093</td>\n",
              "      <td>-0.002346</td>\n",
              "      <td>0.006677</td>\n",
              "      <td>0.017795</td>\n",
              "      <td>0.034722</td>\n",
              "      <td>0.001921</td>\n",
              "      <td>-0.001321</td>\n",
              "      <td>-0.005520</td>\n",
              "      <td>0.023097</td>\n",
              "      <td>-0.003703</td>\n",
              "      <td>-0.005706</td>\n",
              "      <td>-0.001083</td>\n",
              "      <td>0.024332</td>\n",
              "      <td>0.068845</td>\n",
              "      <td>0.009545</td>\n",
              "      <td>0.008173</td>\n",
              "      <td>-0.000502</td>\n",
              "      <td>-0.008081</td>\n",
              "      <td>-0.007676</td>\n",
              "      <td>-0.004782</td>\n",
              "      <td>-0.006734</td>\n",
              "      <td>0.071478</td>\n",
              "    </tr>\n",
              "    <tr>\n",
              "      <th>Lists</th>\n",
              "      <td>0.002674</td>\n",
              "      <td>0.002711</td>\n",
              "      <td>0.005093</td>\n",
              "      <td>1.000000</td>\n",
              "      <td>0.358761</td>\n",
              "      <td>0.014313</td>\n",
              "      <td>0.085132</td>\n",
              "      <td>0.123686</td>\n",
              "      <td>0.426464</td>\n",
              "      <td>0.589782</td>\n",
              "      <td>-0.036815</td>\n",
              "      <td>0.616851</td>\n",
              "      <td>0.725122</td>\n",
              "      <td>-0.003146</td>\n",
              "      <td>0.017184</td>\n",
              "      <td>-0.020293</td>\n",
              "      <td>0.004398</td>\n",
              "      <td>0.015595</td>\n",
              "      <td>0.019599</td>\n",
              "      <td>0.163509</td>\n",
              "      <td>0.118637</td>\n",
              "      <td>0.201835</td>\n",
              "      <td>-0.010043</td>\n",
              "      <td>0.303298</td>\n",
              "      <td>-0.034522</td>\n",
              "    </tr>\n",
              "    <tr>\n",
              "      <th>Verified</th>\n",
              "      <td>-0.005131</td>\n",
              "      <td>-0.023806</td>\n",
              "      <td>-0.002346</td>\n",
              "      <td>0.358761</td>\n",
              "      <td>1.000000</td>\n",
              "      <td>0.063909</td>\n",
              "      <td>0.047205</td>\n",
              "      <td>0.109276</td>\n",
              "      <td>0.004344</td>\n",
              "      <td>0.498261</td>\n",
              "      <td>-0.013948</td>\n",
              "      <td>0.067061</td>\n",
              "      <td>0.506503</td>\n",
              "      <td>-0.010871</td>\n",
              "      <td>-0.002873</td>\n",
              "      <td>0.053052</td>\n",
              "      <td>-0.002717</td>\n",
              "      <td>0.084498</td>\n",
              "      <td>0.103486</td>\n",
              "      <td>0.013519</td>\n",
              "      <td>0.079337</td>\n",
              "      <td>0.001969</td>\n",
              "      <td>0.017484</td>\n",
              "      <td>-0.017864</td>\n",
              "      <td>-0.016927</td>\n",
              "    </tr>\n",
              "    <tr>\n",
              "      <th>Location</th>\n",
              "      <td>-0.009592</td>\n",
              "      <td>0.092314</td>\n",
              "      <td>0.006677</td>\n",
              "      <td>0.014313</td>\n",
              "      <td>0.063909</td>\n",
              "      <td>1.000000</td>\n",
              "      <td>0.146100</td>\n",
              "      <td>0.072911</td>\n",
              "      <td>0.005673</td>\n",
              "      <td>0.035305</td>\n",
              "      <td>0.001304</td>\n",
              "      <td>-0.000912</td>\n",
              "      <td>0.053107</td>\n",
              "      <td>0.033425</td>\n",
              "      <td>-0.004265</td>\n",
              "      <td>0.098899</td>\n",
              "      <td>-0.009757</td>\n",
              "      <td>0.139019</td>\n",
              "      <td>0.122324</td>\n",
              "      <td>-0.008738</td>\n",
              "      <td>0.005962</td>\n",
              "      <td>0.013270</td>\n",
              "      <td>0.002176</td>\n",
              "      <td>-0.019642</td>\n",
              "      <td>0.070430</td>\n",
              "    </tr>\n",
              "    <tr>\n",
              "      <th>Description</th>\n",
              "      <td>0.003410</td>\n",
              "      <td>0.090011</td>\n",
              "      <td>0.017795</td>\n",
              "      <td>0.085132</td>\n",
              "      <td>0.047205</td>\n",
              "      <td>0.146100</td>\n",
              "      <td>1.000000</td>\n",
              "      <td>0.142077</td>\n",
              "      <td>0.089284</td>\n",
              "      <td>0.024084</td>\n",
              "      <td>-0.058783</td>\n",
              "      <td>0.100651</td>\n",
              "      <td>0.052285</td>\n",
              "      <td>0.018269</td>\n",
              "      <td>0.021799</td>\n",
              "      <td>-0.017247</td>\n",
              "      <td>0.019798</td>\n",
              "      <td>0.004764</td>\n",
              "      <td>-0.005422</td>\n",
              "      <td>0.078134</td>\n",
              "      <td>-0.027413</td>\n",
              "      <td>0.031140</td>\n",
              "      <td>-0.016473</td>\n",
              "      <td>0.017507</td>\n",
              "      <td>0.062393</td>\n",
              "    </tr>\n",
              "    <tr>\n",
              "      <th>Time_span</th>\n",
              "      <td>0.045148</td>\n",
              "      <td>0.098286</td>\n",
              "      <td>0.034722</td>\n",
              "      <td>0.123686</td>\n",
              "      <td>0.109276</td>\n",
              "      <td>0.072911</td>\n",
              "      <td>0.142077</td>\n",
              "      <td>1.000000</td>\n",
              "      <td>-0.111687</td>\n",
              "      <td>0.068334</td>\n",
              "      <td>-0.069397</td>\n",
              "      <td>0.201649</td>\n",
              "      <td>0.138566</td>\n",
              "      <td>0.103621</td>\n",
              "      <td>0.008186</td>\n",
              "      <td>0.084948</td>\n",
              "      <td>0.061837</td>\n",
              "      <td>0.178888</td>\n",
              "      <td>0.111152</td>\n",
              "      <td>-0.075417</td>\n",
              "      <td>0.020099</td>\n",
              "      <td>-0.064104</td>\n",
              "      <td>-0.007992</td>\n",
              "      <td>-0.062336</td>\n",
              "      <td>0.058658</td>\n",
              "    </tr>\n",
              "    <tr>\n",
              "      <th>E_score</th>\n",
              "      <td>0.002440</td>\n",
              "      <td>-0.054525</td>\n",
              "      <td>0.001921</td>\n",
              "      <td>0.426464</td>\n",
              "      <td>0.004344</td>\n",
              "      <td>0.005673</td>\n",
              "      <td>0.089284</td>\n",
              "      <td>-0.111687</td>\n",
              "      <td>1.000000</td>\n",
              "      <td>0.015294</td>\n",
              "      <td>-0.053622</td>\n",
              "      <td>0.569521</td>\n",
              "      <td>0.108617</td>\n",
              "      <td>0.100643</td>\n",
              "      <td>0.016320</td>\n",
              "      <td>-0.015670</td>\n",
              "      <td>0.011870</td>\n",
              "      <td>-0.068703</td>\n",
              "      <td>-0.067868</td>\n",
              "      <td>0.190579</td>\n",
              "      <td>0.086928</td>\n",
              "      <td>0.220548</td>\n",
              "      <td>-0.001597</td>\n",
              "      <td>0.328447</td>\n",
              "      <td>-0.057406</td>\n",
              "    </tr>\n",
              "    <tr>\n",
              "      <th>Followers_Friends</th>\n",
              "      <td>-0.003323</td>\n",
              "      <td>-0.012768</td>\n",
              "      <td>-0.001321</td>\n",
              "      <td>0.589782</td>\n",
              "      <td>0.498261</td>\n",
              "      <td>0.035305</td>\n",
              "      <td>0.024084</td>\n",
              "      <td>0.068334</td>\n",
              "      <td>0.015294</td>\n",
              "      <td>1.000000</td>\n",
              "      <td>-0.008081</td>\n",
              "      <td>0.068545</td>\n",
              "      <td>0.722140</td>\n",
              "      <td>-0.006753</td>\n",
              "      <td>-0.001614</td>\n",
              "      <td>0.035535</td>\n",
              "      <td>-0.001539</td>\n",
              "      <td>0.053718</td>\n",
              "      <td>0.057733</td>\n",
              "      <td>0.017348</td>\n",
              "      <td>0.093066</td>\n",
              "      <td>0.002841</td>\n",
              "      <td>-0.007113</td>\n",
              "      <td>-0.010033</td>\n",
              "      <td>-0.014756</td>\n",
              "    </tr>\n",
              "    <tr>\n",
              "      <th>Favorite_Statu</th>\n",
              "      <td>-0.006534</td>\n",
              "      <td>-0.005431</td>\n",
              "      <td>-0.005520</td>\n",
              "      <td>-0.036815</td>\n",
              "      <td>-0.013948</td>\n",
              "      <td>0.001304</td>\n",
              "      <td>-0.058783</td>\n",
              "      <td>-0.069397</td>\n",
              "      <td>-0.053622</td>\n",
              "      <td>-0.008081</td>\n",
              "      <td>1.000000</td>\n",
              "      <td>-0.048977</td>\n",
              "      <td>-0.018163</td>\n",
              "      <td>0.080618</td>\n",
              "      <td>-0.006075</td>\n",
              "      <td>0.024123</td>\n",
              "      <td>-0.006195</td>\n",
              "      <td>0.015598</td>\n",
              "      <td>0.022487</td>\n",
              "      <td>-0.031909</td>\n",
              "      <td>-0.009485</td>\n",
              "      <td>-0.034866</td>\n",
              "      <td>0.018005</td>\n",
              "      <td>-0.039093</td>\n",
              "      <td>-0.019770</td>\n",
              "    </tr>\n",
              "    <tr>\n",
              "      <th>Status_count</th>\n",
              "      <td>0.017866</td>\n",
              "      <td>-0.011538</td>\n",
              "      <td>0.023097</td>\n",
              "      <td>0.616851</td>\n",
              "      <td>0.067061</td>\n",
              "      <td>-0.000912</td>\n",
              "      <td>0.100651</td>\n",
              "      <td>0.201649</td>\n",
              "      <td>0.569521</td>\n",
              "      <td>0.068545</td>\n",
              "      <td>-0.048977</td>\n",
              "      <td>1.000000</td>\n",
              "      <td>0.273276</td>\n",
              "      <td>0.173451</td>\n",
              "      <td>0.012578</td>\n",
              "      <td>-0.028744</td>\n",
              "      <td>0.053782</td>\n",
              "      <td>0.000901</td>\n",
              "      <td>-0.004003</td>\n",
              "      <td>0.098440</td>\n",
              "      <td>0.102698</td>\n",
              "      <td>0.092983</td>\n",
              "      <td>0.001163</td>\n",
              "      <td>0.173996</td>\n",
              "      <td>-0.021883</td>\n",
              "    </tr>\n",
              "    <tr>\n",
              "      <th>Followers</th>\n",
              "      <td>-0.005355</td>\n",
              "      <td>-0.003179</td>\n",
              "      <td>-0.003703</td>\n",
              "      <td>0.725122</td>\n",
              "      <td>0.506503</td>\n",
              "      <td>0.053107</td>\n",
              "      <td>0.052285</td>\n",
              "      <td>0.138566</td>\n",
              "      <td>0.108617</td>\n",
              "      <td>0.722140</td>\n",
              "      <td>-0.018163</td>\n",
              "      <td>0.273276</td>\n",
              "      <td>1.000000</td>\n",
              "      <td>0.005652</td>\n",
              "      <td>-0.002217</td>\n",
              "      <td>0.027527</td>\n",
              "      <td>-0.000003</td>\n",
              "      <td>0.057846</td>\n",
              "      <td>0.075338</td>\n",
              "      <td>0.033245</td>\n",
              "      <td>0.084481</td>\n",
              "      <td>0.032833</td>\n",
              "      <td>-0.010028</td>\n",
              "      <td>0.029323</td>\n",
              "      <td>-0.008898</td>\n",
              "    </tr>\n",
              "    <tr>\n",
              "      <th>Fovorites_count</th>\n",
              "      <td>-0.003349</td>\n",
              "      <td>0.007465</td>\n",
              "      <td>-0.005706</td>\n",
              "      <td>-0.003146</td>\n",
              "      <td>-0.010871</td>\n",
              "      <td>0.033425</td>\n",
              "      <td>0.018269</td>\n",
              "      <td>0.103621</td>\n",
              "      <td>0.100643</td>\n",
              "      <td>-0.006753</td>\n",
              "      <td>0.080618</td>\n",
              "      <td>0.173451</td>\n",
              "      <td>0.005652</td>\n",
              "      <td>1.000000</td>\n",
              "      <td>-0.007532</td>\n",
              "      <td>0.007107</td>\n",
              "      <td>-0.005767</td>\n",
              "      <td>0.024421</td>\n",
              "      <td>0.024109</td>\n",
              "      <td>-0.012798</td>\n",
              "      <td>0.079337</td>\n",
              "      <td>-0.026274</td>\n",
              "      <td>0.005284</td>\n",
              "      <td>-0.041348</td>\n",
              "      <td>-0.005642</td>\n",
              "    </tr>\n",
              "    <tr>\n",
              "      <th>Protected</th>\n",
              "      <td>0.002081</td>\n",
              "      <td>-0.010993</td>\n",
              "      <td>-0.001083</td>\n",
              "      <td>0.017184</td>\n",
              "      <td>-0.002873</td>\n",
              "      <td>-0.004265</td>\n",
              "      <td>0.021799</td>\n",
              "      <td>0.008186</td>\n",
              "      <td>0.016320</td>\n",
              "      <td>-0.001614</td>\n",
              "      <td>-0.006075</td>\n",
              "      <td>0.012578</td>\n",
              "      <td>-0.002217</td>\n",
              "      <td>-0.007532</td>\n",
              "      <td>1.000000</td>\n",
              "      <td>0.005034</td>\n",
              "      <td>-0.001043</td>\n",
              "      <td>0.024446</td>\n",
              "      <td>0.022604</td>\n",
              "      <td>0.007386</td>\n",
              "      <td>-0.009899</td>\n",
              "      <td>-0.015967</td>\n",
              "      <td>-0.005858</td>\n",
              "      <td>-0.008249</td>\n",
              "      <td>-0.015153</td>\n",
              "    </tr>\n",
              "    <tr>\n",
              "      <th>Name</th>\n",
              "      <td>0.027077</td>\n",
              "      <td>0.087318</td>\n",
              "      <td>0.024332</td>\n",
              "      <td>-0.020293</td>\n",
              "      <td>0.053052</td>\n",
              "      <td>0.098899</td>\n",
              "      <td>-0.017247</td>\n",
              "      <td>0.084948</td>\n",
              "      <td>-0.015670</td>\n",
              "      <td>0.035535</td>\n",
              "      <td>0.024123</td>\n",
              "      <td>-0.028744</td>\n",
              "      <td>0.027527</td>\n",
              "      <td>0.007107</td>\n",
              "      <td>0.005034</td>\n",
              "      <td>1.000000</td>\n",
              "      <td>0.024464</td>\n",
              "      <td>0.439622</td>\n",
              "      <td>0.298488</td>\n",
              "      <td>-0.002814</td>\n",
              "      <td>0.016062</td>\n",
              "      <td>-0.016393</td>\n",
              "      <td>-0.003513</td>\n",
              "      <td>-0.061121</td>\n",
              "      <td>0.083745</td>\n",
              "    </tr>\n",
              "    <tr>\n",
              "      <th>Friends</th>\n",
              "      <td>0.001784</td>\n",
              "      <td>0.096262</td>\n",
              "      <td>0.068845</td>\n",
              "      <td>0.004398</td>\n",
              "      <td>-0.002717</td>\n",
              "      <td>-0.009757</td>\n",
              "      <td>0.019798</td>\n",
              "      <td>0.061837</td>\n",
              "      <td>0.011870</td>\n",
              "      <td>-0.001539</td>\n",
              "      <td>-0.006195</td>\n",
              "      <td>0.053782</td>\n",
              "      <td>-0.000003</td>\n",
              "      <td>-0.005767</td>\n",
              "      <td>-0.001043</td>\n",
              "      <td>0.024464</td>\n",
              "      <td>1.000000</td>\n",
              "      <td>0.037549</td>\n",
              "      <td>0.034603</td>\n",
              "      <td>0.017164</td>\n",
              "      <td>-0.003718</td>\n",
              "      <td>0.014258</td>\n",
              "      <td>-0.004526</td>\n",
              "      <td>-0.003873</td>\n",
              "      <td>0.075352</td>\n",
              "    </tr>\n",
              "    <tr>\n",
              "      <th>Screen_name</th>\n",
              "      <td>0.031766</td>\n",
              "      <td>0.105269</td>\n",
              "      <td>0.009545</td>\n",
              "      <td>0.015595</td>\n",
              "      <td>0.084498</td>\n",
              "      <td>0.139019</td>\n",
              "      <td>0.004764</td>\n",
              "      <td>0.178888</td>\n",
              "      <td>-0.068703</td>\n",
              "      <td>0.053718</td>\n",
              "      <td>0.015598</td>\n",
              "      <td>0.000901</td>\n",
              "      <td>0.057846</td>\n",
              "      <td>0.024421</td>\n",
              "      <td>0.024446</td>\n",
              "      <td>0.439622</td>\n",
              "      <td>0.037549</td>\n",
              "      <td>1.000000</td>\n",
              "      <td>0.681529</td>\n",
              "      <td>-0.018423</td>\n",
              "      <td>0.047414</td>\n",
              "      <td>-0.000373</td>\n",
              "      <td>-0.017924</td>\n",
              "      <td>-0.077059</td>\n",
              "      <td>0.099532</td>\n",
              "    </tr>\n",
              "    <tr>\n",
              "      <th>Matching</th>\n",
              "      <td>0.027991</td>\n",
              "      <td>0.101165</td>\n",
              "      <td>0.008173</td>\n",
              "      <td>0.019599</td>\n",
              "      <td>0.103486</td>\n",
              "      <td>0.122324</td>\n",
              "      <td>-0.005422</td>\n",
              "      <td>0.111152</td>\n",
              "      <td>-0.067868</td>\n",
              "      <td>0.057733</td>\n",
              "      <td>0.022487</td>\n",
              "      <td>-0.004003</td>\n",
              "      <td>0.075338</td>\n",
              "      <td>0.024109</td>\n",
              "      <td>0.022604</td>\n",
              "      <td>0.298488</td>\n",
              "      <td>0.034603</td>\n",
              "      <td>0.681529</td>\n",
              "      <td>1.000000</td>\n",
              "      <td>-0.033392</td>\n",
              "      <td>0.074692</td>\n",
              "      <td>0.007239</td>\n",
              "      <td>0.007411</td>\n",
              "      <td>-0.050841</td>\n",
              "      <td>0.106586</td>\n",
              "    </tr>\n",
              "    <tr>\n",
              "      <th>Multimidia</th>\n",
              "      <td>-0.006864</td>\n",
              "      <td>0.038045</td>\n",
              "      <td>-0.000502</td>\n",
              "      <td>0.163509</td>\n",
              "      <td>0.013519</td>\n",
              "      <td>-0.008738</td>\n",
              "      <td>0.078134</td>\n",
              "      <td>-0.075417</td>\n",
              "      <td>0.190579</td>\n",
              "      <td>0.017348</td>\n",
              "      <td>-0.031909</td>\n",
              "      <td>0.098440</td>\n",
              "      <td>0.033245</td>\n",
              "      <td>-0.012798</td>\n",
              "      <td>0.007386</td>\n",
              "      <td>-0.002814</td>\n",
              "      <td>0.017164</td>\n",
              "      <td>-0.018423</td>\n",
              "      <td>-0.033392</td>\n",
              "      <td>1.000000</td>\n",
              "      <td>0.039138</td>\n",
              "      <td>0.251222</td>\n",
              "      <td>-0.083755</td>\n",
              "      <td>0.242677</td>\n",
              "      <td>0.002826</td>\n",
              "    </tr>\n",
              "    <tr>\n",
              "      <th>URL</th>\n",
              "      <td>-0.010051</td>\n",
              "      <td>0.043648</td>\n",
              "      <td>-0.008081</td>\n",
              "      <td>0.118637</td>\n",
              "      <td>0.079337</td>\n",
              "      <td>0.005962</td>\n",
              "      <td>-0.027413</td>\n",
              "      <td>0.020099</td>\n",
              "      <td>0.086928</td>\n",
              "      <td>0.093066</td>\n",
              "      <td>-0.009485</td>\n",
              "      <td>0.102698</td>\n",
              "      <td>0.084481</td>\n",
              "      <td>0.079337</td>\n",
              "      <td>-0.009899</td>\n",
              "      <td>0.016062</td>\n",
              "      <td>-0.003718</td>\n",
              "      <td>0.047414</td>\n",
              "      <td>0.074692</td>\n",
              "      <td>0.039138</td>\n",
              "      <td>1.000000</td>\n",
              "      <td>0.164980</td>\n",
              "      <td>-0.035247</td>\n",
              "      <td>-0.031542</td>\n",
              "      <td>0.091894</td>\n",
              "    </tr>\n",
              "    <tr>\n",
              "      <th>Hashtags</th>\n",
              "      <td>-0.019738</td>\n",
              "      <td>-0.061514</td>\n",
              "      <td>-0.007676</td>\n",
              "      <td>0.201835</td>\n",
              "      <td>0.001969</td>\n",
              "      <td>0.013270</td>\n",
              "      <td>0.031140</td>\n",
              "      <td>-0.064104</td>\n",
              "      <td>0.220548</td>\n",
              "      <td>0.002841</td>\n",
              "      <td>-0.034866</td>\n",
              "      <td>0.092983</td>\n",
              "      <td>0.032833</td>\n",
              "      <td>-0.026274</td>\n",
              "      <td>-0.015967</td>\n",
              "      <td>-0.016393</td>\n",
              "      <td>0.014258</td>\n",
              "      <td>-0.000373</td>\n",
              "      <td>0.007239</td>\n",
              "      <td>0.251222</td>\n",
              "      <td>0.164980</td>\n",
              "      <td>1.000000</td>\n",
              "      <td>0.018991</td>\n",
              "      <td>0.323880</td>\n",
              "      <td>-0.069695</td>\n",
              "    </tr>\n",
              "    <tr>\n",
              "      <th>Question_Mark</th>\n",
              "      <td>-0.006195</td>\n",
              "      <td>-0.039989</td>\n",
              "      <td>-0.004782</td>\n",
              "      <td>-0.010043</td>\n",
              "      <td>0.017484</td>\n",
              "      <td>0.002176</td>\n",
              "      <td>-0.016473</td>\n",
              "      <td>-0.007992</td>\n",
              "      <td>-0.001597</td>\n",
              "      <td>-0.007113</td>\n",
              "      <td>0.018005</td>\n",
              "      <td>0.001163</td>\n",
              "      <td>-0.010028</td>\n",
              "      <td>0.005284</td>\n",
              "      <td>-0.005858</td>\n",
              "      <td>-0.003513</td>\n",
              "      <td>-0.004526</td>\n",
              "      <td>-0.017924</td>\n",
              "      <td>0.007411</td>\n",
              "      <td>-0.083755</td>\n",
              "      <td>-0.035247</td>\n",
              "      <td>0.018991</td>\n",
              "      <td>1.000000</td>\n",
              "      <td>-0.027441</td>\n",
              "      <td>-0.056902</td>\n",
              "    </tr>\n",
              "    <tr>\n",
              "      <th>Phone_num</th>\n",
              "      <td>-0.003546</td>\n",
              "      <td>-0.050155</td>\n",
              "      <td>-0.006734</td>\n",
              "      <td>0.303298</td>\n",
              "      <td>-0.017864</td>\n",
              "      <td>-0.019642</td>\n",
              "      <td>0.017507</td>\n",
              "      <td>-0.062336</td>\n",
              "      <td>0.328447</td>\n",
              "      <td>-0.010033</td>\n",
              "      <td>-0.039093</td>\n",
              "      <td>0.173996</td>\n",
              "      <td>0.029323</td>\n",
              "      <td>-0.041348</td>\n",
              "      <td>-0.008249</td>\n",
              "      <td>-0.061121</td>\n",
              "      <td>-0.003873</td>\n",
              "      <td>-0.077059</td>\n",
              "      <td>-0.050841</td>\n",
              "      <td>0.242677</td>\n",
              "      <td>-0.031542</td>\n",
              "      <td>0.323880</td>\n",
              "      <td>-0.027441</td>\n",
              "      <td>1.000000</td>\n",
              "      <td>-0.080021</td>\n",
              "    </tr>\n",
              "    <tr>\n",
              "      <th>Result</th>\n",
              "      <td>0.042879</td>\n",
              "      <td>0.716477</td>\n",
              "      <td>0.071478</td>\n",
              "      <td>-0.034522</td>\n",
              "      <td>-0.016927</td>\n",
              "      <td>0.070430</td>\n",
              "      <td>0.062393</td>\n",
              "      <td>0.058658</td>\n",
              "      <td>-0.057406</td>\n",
              "      <td>-0.014756</td>\n",
              "      <td>-0.019770</td>\n",
              "      <td>-0.021883</td>\n",
              "      <td>-0.008898</td>\n",
              "      <td>-0.005642</td>\n",
              "      <td>-0.015153</td>\n",
              "      <td>0.083745</td>\n",
              "      <td>0.075352</td>\n",
              "      <td>0.099532</td>\n",
              "      <td>0.106586</td>\n",
              "      <td>0.002826</td>\n",
              "      <td>0.091894</td>\n",
              "      <td>-0.069695</td>\n",
              "      <td>-0.056902</td>\n",
              "      <td>-0.080021</td>\n",
              "      <td>1.000000</td>\n",
              "    </tr>\n",
              "  </tbody>\n",
              "</table>\n",
              "</div>"
            ],
            "text/plain": [
              "                   Retweet_Count  Favorited  ...  Phone_num    Result\n",
              "Retweet_Count           1.000000   0.071492  ...  -0.003546  0.042879\n",
              "Favorited               0.071492   1.000000  ...  -0.050155  0.716477\n",
              "Retweeted              -0.001089   0.044775  ...  -0.006734  0.071478\n",
              "Lists                   0.002674   0.002711  ...   0.303298 -0.034522\n",
              "Verified               -0.005131  -0.023806  ...  -0.017864 -0.016927\n",
              "Location               -0.009592   0.092314  ...  -0.019642  0.070430\n",
              "Description             0.003410   0.090011  ...   0.017507  0.062393\n",
              "Time_span               0.045148   0.098286  ...  -0.062336  0.058658\n",
              "E_score                 0.002440  -0.054525  ...   0.328447 -0.057406\n",
              "Followers_Friends      -0.003323  -0.012768  ...  -0.010033 -0.014756\n",
              "Favorite_Statu         -0.006534  -0.005431  ...  -0.039093 -0.019770\n",
              "Status_count            0.017866  -0.011538  ...   0.173996 -0.021883\n",
              "Followers              -0.005355  -0.003179  ...   0.029323 -0.008898\n",
              "Fovorites_count        -0.003349   0.007465  ...  -0.041348 -0.005642\n",
              "Protected               0.002081  -0.010993  ...  -0.008249 -0.015153\n",
              "Name                    0.027077   0.087318  ...  -0.061121  0.083745\n",
              "Friends                 0.001784   0.096262  ...  -0.003873  0.075352\n",
              "Screen_name             0.031766   0.105269  ...  -0.077059  0.099532\n",
              "Matching                0.027991   0.101165  ...  -0.050841  0.106586\n",
              "Multimidia             -0.006864   0.038045  ...   0.242677  0.002826\n",
              "URL                    -0.010051   0.043648  ...  -0.031542  0.091894\n",
              "Hashtags               -0.019738  -0.061514  ...   0.323880 -0.069695\n",
              "Question_Mark          -0.006195  -0.039989  ...  -0.027441 -0.056902\n",
              "Phone_num              -0.003546  -0.050155  ...   1.000000 -0.080021\n",
              "Result                  0.042879   0.716477  ...  -0.080021  1.000000\n",
              "\n",
              "[25 rows x 25 columns]"
            ]
          },
          "metadata": {},
          "execution_count": 23
        }
      ]
    },
    {
      "cell_type": "code",
      "metadata": {
        "id": "bUt2aRuM7xq6",
        "colab": {
          "base_uri": "https://localhost:8080/",
          "height": 474
        },
        "outputId": "a35e984b-c5c6-46ef-dfaa-3eb12d572f0c"
      },
      "source": [
        "plt.figure(figsize=(16, 6))\n",
        "# Store heatmap object in a variable to easily access it when you want to include more features (such as title).\n",
        "# Set the range of values to be displayed on the colormap from -1 to 1, and set the annotation to True to display the correlation values on the heatmap.\n",
        "heatmap = sns.heatmap(df.corr(), vmin=-1, vmax=1, annot=True)\n",
        "# Give a title to the heatmap. Pad defines the distance of the title from the top of the heatmap.\n",
        "heatmap.set_title('Correlation Heatmap', fontdict={'fontsize':12}, pad=12);"
      ],
      "execution_count": null,
      "outputs": [
        {
          "output_type": "display_data",
          "data": {
            "image/png": "[encoded data removed]",
            "text/plain": [
              "<Figure size 1152x432 with 2 Axes>"
            ]
          },
          "metadata": {
            "needs_background": "light"
          }
        }
      ]
    },
    {
      "cell_type": "code",
      "metadata": {
        "id": "I2mpkIfE7xq7",
        "colab": {
          "base_uri": "https://localhost:8080/",
          "height": 833
        },
        "outputId": "407c682e-96af-4065-cb9d-9b083d6913b0"
      },
      "source": [
        "df.corr()[['Result']].sort_values(by='Result', ascending=False)"
      ],
      "execution_count": null,
      "outputs": [
        {
          "output_type": "execute_result",
          "data": {
            "text/html": [
              "<div>\n",
              "<style scoped>\n",
              "    .dataframe tbody tr th:only-of-type {\n",
              "        vertical-align: middle;\n",
              "    }\n",
              "\n",
              "    .dataframe tbody tr th {\n",
              "        vertical-align: top;\n",
              "    }\n",
              "\n",
              "    .dataframe thead th {\n",
              "        text-align: right;\n",
              "    }\n",
              "</style>\n",
              "<table border=\"1\" class=\"dataframe\">\n",
              "  <thead>\n",
              "    <tr style=\"text-align: right;\">\n",
              "      <th></th>\n",
              "      <th>Result</th>\n",
              "    </tr>\n",
              "  </thead>\n",
              "  <tbody>\n",
              "    <tr>\n",
              "      <th>Result</th>\n",
              "      <td>1.000000</td>\n",
              "    </tr>\n",
              "    <tr>\n",
              "      <th>Favorited</th>\n",
              "      <td>0.716477</td>\n",
              "    </tr>\n",
              "    <tr>\n",
              "      <th>Matching</th>\n",
              "      <td>0.106586</td>\n",
              "    </tr>\n",
              "    <tr>\n",
              "      <th>Screen_name</th>\n",
              "      <td>0.099532</td>\n",
              "    </tr>\n",
              "    <tr>\n",
              "      <th>URL</th>\n",
              "      <td>0.091894</td>\n",
              "    </tr>\n",
              "    <tr>\n",
              "      <th>Name</th>\n",
              "      <td>0.083745</td>\n",
              "    </tr>\n",
              "    <tr>\n",
              "      <th>Friends</th>\n",
              "      <td>0.075352</td>\n",
              "    </tr>\n",
              "    <tr>\n",
              "      <th>Retweeted</th>\n",
              "      <td>0.071478</td>\n",
              "    </tr>\n",
              "    <tr>\n",
              "      <th>Location</th>\n",
              "      <td>0.070430</td>\n",
              "    </tr>\n",
              "    <tr>\n",
              "      <th>Description</th>\n",
              "      <td>0.062393</td>\n",
              "    </tr>\n",
              "    <tr>\n",
              "      <th>Time_span</th>\n",
              "      <td>0.058658</td>\n",
              "    </tr>\n",
              "    <tr>\n",
              "      <th>Retweet_Count</th>\n",
              "      <td>0.042879</td>\n",
              "    </tr>\n",
              "    <tr>\n",
              "      <th>Multimidia</th>\n",
              "      <td>0.002826</td>\n",
              "    </tr>\n",
              "    <tr>\n",
              "      <th>Fovorites_count</th>\n",
              "      <td>-0.005642</td>\n",
              "    </tr>\n",
              "    <tr>\n",
              "      <th>Followers</th>\n",
              "      <td>-0.008898</td>\n",
              "    </tr>\n",
              "    <tr>\n",
              "      <th>Followers_Friends</th>\n",
              "      <td>-0.014756</td>\n",
              "    </tr>\n",
              "    <tr>\n",
              "      <th>Protected</th>\n",
              "      <td>-0.015153</td>\n",
              "    </tr>\n",
              "    <tr>\n",
              "      <th>Verified</th>\n",
              "      <td>-0.016927</td>\n",
              "    </tr>\n",
              "    <tr>\n",
              "      <th>Favorite_Statu</th>\n",
              "      <td>-0.019770</td>\n",
              "    </tr>\n",
              "    <tr>\n",
              "      <th>Status_count</th>\n",
              "      <td>-0.021883</td>\n",
              "    </tr>\n",
              "    <tr>\n",
              "      <th>Lists</th>\n",
              "      <td>-0.034522</td>\n",
              "    </tr>\n",
              "    <tr>\n",
              "      <th>Question_Mark</th>\n",
              "      <td>-0.056902</td>\n",
              "    </tr>\n",
              "    <tr>\n",
              "      <th>E_score</th>\n",
              "      <td>-0.057406</td>\n",
              "    </tr>\n",
              "    <tr>\n",
              "      <th>Hashtags</th>\n",
              "      <td>-0.069695</td>\n",
              "    </tr>\n",
              "    <tr>\n",
              "      <th>Phone_num</th>\n",
              "      <td>-0.080021</td>\n",
              "    </tr>\n",
              "  </tbody>\n",
              "</table>\n",
              "</div>"
            ],
            "text/plain": [
              "                     Result\n",
              "Result             1.000000\n",
              "Favorited          0.716477\n",
              "Matching           0.106586\n",
              "Screen_name        0.099532\n",
              "URL                0.091894\n",
              "Name               0.083745\n",
              "Friends            0.075352\n",
              "Retweeted          0.071478\n",
              "Location           0.070430\n",
              "Description        0.062393\n",
              "Time_span          0.058658\n",
              "Retweet_Count      0.042879\n",
              "Multimidia         0.002826\n",
              "Fovorites_count   -0.005642\n",
              "Followers         -0.008898\n",
              "Followers_Friends -0.014756\n",
              "Protected         -0.015153\n",
              "Verified          -0.016927\n",
              "Favorite_Statu    -0.019770\n",
              "Status_count      -0.021883\n",
              "Lists             -0.034522\n",
              "Question_Mark     -0.056902\n",
              "E_score           -0.057406\n",
              "Hashtags          -0.069695\n",
              "Phone_num         -0.080021"
            ]
          },
          "metadata": {},
          "execution_count": 25
        }
      ]
    },
    {
      "cell_type": "markdown",
      "metadata": {
        "id": "9_dkgRvJ7xq8"
      },
      "source": [
        "# Highly correlated Columns"
      ]
    },
    {
      "cell_type": "code",
      "metadata": {
        "id": "bV8aE2PP7xq8",
        "colab": {
          "base_uri": "https://localhost:8080/",
          "height": 618
        },
        "outputId": "1b1d179b-55d3-4d7e-c4b4-d99de47a939a"
      },
      "source": [
        "#correlation values more than 0.7  \n",
        "dfCorr = df.corr()\n",
        "filteredDf = dfCorr[((dfCorr >= .7) & (dfCorr != 1)) ]\n",
        "plt.figure(figsize=(30,10))\n",
        "sns.heatmap(filteredDf, annot=True, cmap=\"Reds\")\n",
        "plt.show()"
      ],
      "execution_count": null,
      "outputs": [
        {
          "output_type": "display_data",
          "data": {
            "image/png": "[encoded data removed]",
            "text/plain": [
              "<Figure size 2160x720 with 2 Axes>"
            ]
          },
          "metadata": {
            "needs_background": "light"
          }
        }
      ]
    },
    {
      "cell_type": "code",
      "metadata": {
        "id": "kvnZ-fLz7xq9",
        "colab": {
          "base_uri": "https://localhost:8080/"
        },
        "outputId": "afef796f-3171-4805-bb8e-ee3c152324a2"
      },
      "source": [
        "#correlated Columns\n",
        "for i in df.columns:\n",
        "    \n",
        "  for j in df.columns:\n",
        "  \n",
        "    corr_= df[i].corr(df[j])\n",
        "    #print(corr_)\n",
        "    if (corr_ > 0.7) & (corr_<0.9):\n",
        "        print(corr_)\n",
        "        print (i)\n",
        "        print( j)\n",
        "        print('*****')\n",
        "        "
      ],
      "execution_count": null,
      "outputs": [
        {
          "output_type": "stream",
          "name": "stdout",
          "text": [
            "0.716477414290011\n",
            "Favorited\n",
            "Result\n",
            "*****\n",
            "0.7251224832101976\n",
            "Lists\n",
            "Followers\n",
            "*****\n",
            "0.722140353127687\n",
            "Followers_Friends\n",
            "Followers\n",
            "*****\n",
            "0.7251224832101976\n",
            "Followers\n",
            "Lists\n",
            "*****\n",
            "0.722140353127687\n",
            "Followers\n",
            "Followers_Friends\n",
            "*****\n",
            "0.716477414290011\n",
            "Result\n",
            "Favorited\n",
            "*****\n"
          ]
        }
      ]
    },
    {
      "cell_type": "markdown",
      "metadata": {
        "id": "A6A9wa8Q7xq-"
      },
      "source": [
        "# Features Importance "
      ]
    },
    {
      "cell_type": "code",
      "metadata": {
        "id": "u7tiTQlr7xq-",
        "colab": {
          "base_uri": "https://localhost:8080/",
          "height": 392
        },
        "outputId": "f40d9bea-a6a0-4f39-976b-2d607b65c294"
      },
      "source": [
        "X = df.iloc[:,0:24]  #independent columns\n",
        "y = df.iloc[:,-1]    #target column \n",
        "from sklearn.ensemble import ExtraTreesClassifier\n",
        "model = ExtraTreesClassifier()\n",
        "model.fit(X,y)\n",
        "print(model.feature_importances_)\n",
        "#plot graph of feature importances \n",
        "feat_importances = pd.Series(model.feature_importances_, index=X.columns)\n",
        "feat_importances.nlargest(24).plot(kind='barh',)\n",
        "plt.figure(figsize=(80,90))\n",
        "plt.show()"
      ],
      "execution_count": null,
      "outputs": [
        {
          "output_type": "stream",
          "name": "stdout",
          "text": [
            "[2.97768454e-02 4.50184422e-01 2.43001599e-03 3.10215612e-02\n",
            " 9.81137552e-04 1.10891382e-02 9.26046073e-03 4.21778703e-02\n",
            " 4.36272645e-02 4.28312249e-02 4.09371157e-02 4.54670330e-02\n",
            " 4.49649040e-02 3.97688868e-02 9.40948367e-05 8.15679314e-03\n",
            " 6.61350902e-02 7.59393411e-03 7.95944878e-03 1.93775573e-02\n",
            " 1.41631073e-02 3.47119842e-02 3.92485757e-03 3.36525225e-03]\n"
          ]
        },
        {
          "output_type": "display_data",
          "data": {
            "image/png": "[encoded data removed]",
            "text/plain": [
              "<Figure size 432x288 with 1 Axes>"
            ]
          },
          "metadata": {
            "needs_background": "light"
          }
        },
        {
          "output_type": "display_data",
          "data": {
            "text/plain": [
              "<Figure size 5760x6480 with 0 Axes>"
            ]
          },
          "metadata": {}
        }
      ]
    },
    {
      "cell_type": "code",
      "metadata": {
        "id": "FyX0jfLf7xq_"
      },
      "source": [
        "#splitting the data (to use it on the next features selection methods)\n",
        "y1=df['Result']\n",
        "x1=df.drop('Result',axis=1)\n",
        "x_train1,x_test1,y_train1,y_test1=train_test_split(x1,y1,test_size=0.3)"
      ],
      "execution_count": null,
      "outputs": []
    },
    {
      "cell_type": "markdown",
      "metadata": {
        "id": "669nPkfV7xrA"
      },
      "source": [
        "# Mutual Information"
      ]
    },
    {
      "cell_type": "markdown",
      "metadata": {
        "id": "E2LuZiSA7xrA"
      },
      "source": [
        "Mutual information measures how much information the presence/absence of a feature contributes to making the correct prediction on Y."
      ]
    },
    {
      "cell_type": "code",
      "metadata": {
        "id": "XzMFCbz07xrB",
        "colab": {
          "base_uri": "https://localhost:8080/"
        },
        "outputId": "d01be0cd-ef46-4d28-c93e-9ef61cb5b2a4"
      },
      "source": [
        "threshold = 6  # the number of features\n",
        "high_score_features = []\n",
        "feature_scores = mutual_info_classif(x_train1, y_train1, random_state=0)\n",
        "for score, f_name in sorted(zip(feature_scores, x_train1.columns), reverse=True)[:threshold]:\n",
        "        print(f_name, score)\n",
        "        high_score_features.append(f_name)"
      ],
      "execution_count": null,
      "outputs": [
        {
          "output_type": "stream",
          "name": "stdout",
          "text": [
            "Favorited 0.1727316183073626\n",
            "Followers_Friends 0.06696320206332862\n",
            "Friends 0.051277472517381684\n",
            "Status_count 0.029522946459859423\n",
            "Followers 0.02950337605520259\n",
            "Fovorites_count 0.026685957488830736\n"
          ]
        }
      ]
    },
    {
      "cell_type": "code",
      "metadata": {
        "id": "qddb1dXj7xrC"
      },
      "source": [
        "# df_wine_norm_mic = x_train1[high_score_features]\n",
        "# print(df_wine_norm_mic.columns)"
      ],
      "execution_count": null,
      "outputs": []
    },
    {
      "cell_type": "markdown",
      "metadata": {
        "id": "JtXpSiAR7xrD"
      },
      "source": [
        "# PCA"
      ]
    },
    {
      "cell_type": "markdown",
      "metadata": {
        "id": "SvssUZIT7xrD"
      },
      "source": [
        "Features reduction technique"
      ]
    },
    {
      "cell_type": "code",
      "metadata": {
        "id": "oCGZPWRr7xrE",
        "colab": {
          "base_uri": "https://localhost:8080/"
        },
        "outputId": "e5abb2a7-c777-49c4-9b86-8e42bd49a25c"
      },
      "source": [
        "pca = PCA(n_components=5) #you can change the number of features\n",
        "fit = pca.fit(x1)\n",
        "\n",
        "print(fit.explained_variance_ratio_)\n",
        "\n",
        "for score, f_name in sorted(zip(fit.explained_variance_ratio_, x1.columns), reverse=True)[:threshold]:\n",
        "        print(f_name, score)\n",
        "        high_score_features.append(f_name)\n",
        "\n",
        "#print(fit.components_)"
      ],
      "execution_count": null,
      "outputs": [
        {
          "output_type": "stream",
          "name": "stdout",
          "text": [
            "[9.88843260e-01 7.53179462e-03 3.37714999e-03 1.38887931e-04\n",
            " 1.03455394e-04]\n",
            "Retweet_Count 0.9888432601281026\n",
            "Favorited 0.00753179461538535\n",
            "Retweeted 0.003377149993845247\n",
            "Lists 0.00013888793134804575\n",
            "Verified 0.00010345539411825219\n"
          ]
        }
      ]
    },
    {
      "cell_type": "markdown",
      "metadata": {
        "id": "s2XK0i3S7xrE"
      },
      "source": [
        "# Recursive Feature Elimination "
      ]
    },
    {
      "cell_type": "markdown",
      "metadata": {
        "id": "p8GaBzFL7xrF"
      },
      "source": [
        "Works by searching for a subset of features by starting with all features in the training dataset and successfully removing features until the desired number remains."
      ]
    },
    {
      "cell_type": "code",
      "metadata": {
        "id": "__leT68Z7xrF",
        "colab": {
          "base_uri": "https://localhost:8080/"
        },
        "outputId": "844a8b6f-0c5f-418b-cd78-9d80cb26deae"
      },
      "source": [
        "# %matplotlib inline\n",
        "feat_sel = RFE(RandomForestClassifier(n_estimators=20), n_features_to_select=15) # you can select the number of features \n",
        "feat_sel.fit(x_train1, y_train1)"
      ],
      "execution_count": null,
      "outputs": [
        {
          "output_type": "execute_result",
          "data": {
            "text/plain": [
              "RFE(estimator=RandomForestClassifier(bootstrap=True, ccp_alpha=0.0,\n",
              "                                     class_weight=None, criterion='gini',\n",
              "                                     max_depth=None, max_features='auto',\n",
              "                                     max_leaf_nodes=None, max_samples=None,\n",
              "                                     min_impurity_decrease=0.0,\n",
              "                                     min_impurity_split=None,\n",
              "                                     min_samples_leaf=1, min_samples_split=2,\n",
              "                                     min_weight_fraction_leaf=0.0,\n",
              "                                     n_estimators=20, n_jobs=None,\n",
              "                                     oob_score=False, random_state=None,\n",
              "                                     verbose=0, warm_start=False),\n",
              "    n_features_to_select=15, step=1, verbose=0)"
            ]
          },
          "metadata": {},
          "execution_count": 32
        }
      ]
    },
    {
      "cell_type": "code",
      "metadata": {
        "id": "e2-GixBB7xrG",
        "colab": {
          "base_uri": "https://localhost:8080/"
        },
        "outputId": "bcb97d49-4dd9-4f4d-ce5c-ecf39fc284b0"
      },
      "source": [
        "selected_feat = x_train1.columns[(feat_sel.get_support())]\n",
        "print(selected_feat) #selected features"
      ],
      "execution_count": null,
      "outputs": [
        {
          "output_type": "stream",
          "name": "stdout",
          "text": [
            "Index(['Retweet_Count', 'Favorited', 'Lists', 'Location', 'Time_span',\n",
            "       'E_score', 'Followers_Friends', 'Favorite_Statu', 'Status_count',\n",
            "       'Followers', 'Fovorites_count', 'Friends', 'Multimidia', 'URL',\n",
            "       'Hashtags'],\n",
            "      dtype='object')\n"
          ]
        }
      ]
    },
    {
      "cell_type": "code",
      "metadata": {
        "id": "36Oso88e7xrH"
      },
      "source": [
        ""
      ],
      "execution_count": null,
      "outputs": []
    },
    {
      "cell_type": "markdown",
      "metadata": {
        "id": "emGouvnU7xrH"
      },
      "source": [
        "# Choosing the highest impact features"
      ]
    },
    {
      "cell_type": "code",
      "metadata": {
        "id": "HnWW9UFA7xrI"
      },
      "source": [
        "new_data=df[['Favorited','Followers','Friends','Status_count','Fovorites_count','E_score','Retweet_Count','Time_span','Result']]"
      ],
      "execution_count": null,
      "outputs": []
    },
    {
      "cell_type": "code",
      "metadata": {
        "id": "WbbZIlsF7xrI",
        "colab": {
          "base_uri": "https://localhost:8080/",
          "height": 206
        },
        "outputId": "a0e59623-2601-40b3-a5dd-d7d99b77629d"
      },
      "source": [
        "new_data.head()"
      ],
      "execution_count": null,
      "outputs": [
        {
          "output_type": "execute_result",
          "data": {
            "text/html": [
              "<div>\n",
              "<style scoped>\n",
              "    .dataframe tbody tr th:only-of-type {\n",
              "        vertical-align: middle;\n",
              "    }\n",
              "\n",
              "    .dataframe tbody tr th {\n",
              "        vertical-align: top;\n",
              "    }\n",
              "\n",
              "    .dataframe thead th {\n",
              "        text-align: right;\n",
              "    }\n",
              "</style>\n",
              "<table border=\"1\" class=\"dataframe\">\n",
              "  <thead>\n",
              "    <tr style=\"text-align: right;\">\n",
              "      <th></th>\n",
              "      <th>Favorited</th>\n",
              "      <th>Followers</th>\n",
              "      <th>Friends</th>\n",
              "      <th>Status_count</th>\n",
              "      <th>Fovorites_count</th>\n",
              "      <th>E_score</th>\n",
              "      <th>Retweet_Count</th>\n",
              "      <th>Time_span</th>\n",
              "      <th>Result</th>\n",
              "    </tr>\n",
              "  </thead>\n",
              "  <tbody>\n",
              "    <tr>\n",
              "      <th>0</th>\n",
              "      <td>0</td>\n",
              "      <td>698</td>\n",
              "      <td>771</td>\n",
              "      <td>9918</td>\n",
              "      <td>465</td>\n",
              "      <td>138.0</td>\n",
              "      <td>3</td>\n",
              "      <td>72</td>\n",
              "      <td>0</td>\n",
              "    </tr>\n",
              "    <tr>\n",
              "      <th>1</th>\n",
              "      <td>0</td>\n",
              "      <td>1441</td>\n",
              "      <td>4</td>\n",
              "      <td>17</td>\n",
              "      <td>222</td>\n",
              "      <td>6.0</td>\n",
              "      <td>0</td>\n",
              "      <td>3</td>\n",
              "      <td>0</td>\n",
              "    </tr>\n",
              "    <tr>\n",
              "      <th>2</th>\n",
              "      <td>0</td>\n",
              "      <td>18102</td>\n",
              "      <td>18382</td>\n",
              "      <td>51770</td>\n",
              "      <td>5</td>\n",
              "      <td>863.0</td>\n",
              "      <td>206</td>\n",
              "      <td>60</td>\n",
              "      <td>0</td>\n",
              "    </tr>\n",
              "    <tr>\n",
              "      <th>3</th>\n",
              "      <td>0</td>\n",
              "      <td>12</td>\n",
              "      <td>95</td>\n",
              "      <td>465</td>\n",
              "      <td>882</td>\n",
              "      <td>465.0</td>\n",
              "      <td>58</td>\n",
              "      <td>1</td>\n",
              "      <td>0</td>\n",
              "    </tr>\n",
              "    <tr>\n",
              "      <th>4</th>\n",
              "      <td>0</td>\n",
              "      <td>19</td>\n",
              "      <td>31</td>\n",
              "      <td>514</td>\n",
              "      <td>57</td>\n",
              "      <td>21.0</td>\n",
              "      <td>60</td>\n",
              "      <td>24</td>\n",
              "      <td>0</td>\n",
              "    </tr>\n",
              "  </tbody>\n",
              "</table>\n",
              "</div>"
            ],
            "text/plain": [
              "   Favorited  Followers  Friends  ...  Retweet_Count  Time_span  Result\n",
              "0          0        698      771  ...              3         72       0\n",
              "1          0       1441        4  ...              0          3       0\n",
              "2          0      18102    18382  ...            206         60       0\n",
              "3          0         12       95  ...             58          1       0\n",
              "4          0         19       31  ...             60         24       0\n",
              "\n",
              "[5 rows x 9 columns]"
            ]
          },
          "metadata": {},
          "execution_count": 40
        }
      ]
    },
    {
      "cell_type": "code",
      "metadata": {
        "id": "jFaAfUoO7xrK"
      },
      "source": [
        "#splitting the data\n",
        "y=new_data['Result']\n",
        "x=new_data.drop('Result',axis=1)\n",
        "x_train,x_test,y_train,y_test=train_test_split(x,y,test_size=0.3)"
      ],
      "execution_count": null,
      "outputs": []
    },
    {
      "cell_type": "markdown",
      "metadata": {
        "id": "BO4nX_fO7xrL"
      },
      "source": [
        "#Functions"
      ]
    },
    {
      "cell_type": "code",
      "metadata": {
        "id": "oibraVnF7xrL"
      },
      "source": [
        "#AUC and ROC "
      ],
      "execution_count": null,
      "outputs": []
    },
    {
      "cell_type": "code",
      "metadata": {
        "id": "3UIydzcd7xrL"
      },
      "source": [
        "def plotting_roc(test,prediction):\n",
        "    print ('roc_auc_score', roc_auc_score(test,prediction))\n",
        "\n",
        "    fpr, tpr, _ = roc_curve(test,prediction)\n",
        "\n",
        "    print(\"Negative rate\", fpr)\n",
        "    print(\"Positive rate\", tpr)\n",
        "    print(\"***\",_)\n",
        "\n",
        "    plt.clf()\n",
        "    plt.plot(fpr, tpr)\n",
        "    plt.xlabel('FPR')\n",
        "    plt.ylabel('TPR')\n",
        "    plt.title('ROC curve')\n",
        "    plt.show()\n"
      ],
      "execution_count": null,
      "outputs": []
    },
    {
      "cell_type": "code",
      "metadata": {
        "id": "sMijTxR27xrM"
      },
      "source": [
        "def   roc_curve_class (class_,model):\n",
        "\n",
        "    tree_test_pred1= model.predict_proba(x_test)[:, 1]\n",
        "    precision, recall, thresholds = precision_recall_curve(\n",
        "        y_test, tree_test_pred, pos_label = class_)\n",
        "\n",
        "    # AUC score that summarizes the precision recall curve\n",
        "    avg_precision = average_precision_score(y_test, tree_test_pred1)\n",
        "\n",
        "    label = 'Precision Recall AUC: {:.2f}'.format(avg_precision)\n",
        "    plt.plot(recall, precision, lw = 2, label = label)\n",
        "    plt.xlabel('Recall')  \n",
        "    plt.ylabel('Precision')  \n",
        "    plt.title('Precision Recall Curve')\n",
        "    plt.legend()\n",
        "    plt.tight_layout()\n",
        "    plt.show()"
      ],
      "execution_count": null,
      "outputs": []
    },
    {
      "cell_type": "code",
      "metadata": {
        "id": "xXz3kGyS7xrN"
      },
      "source": [
        ""
      ],
      "execution_count": null,
      "outputs": []
    },
    {
      "cell_type": "markdown",
      "metadata": {
        "id": "o3Uv8dGN7xrO"
      },
      "source": [
        "# SVM classifier"
      ]
    },
    {
      "cell_type": "code",
      "metadata": {
        "id": "z5kLZYc17xrO"
      },
      "source": [
        "#Create a svm Classifier\n",
        "clf = svm.SVC(kernel='linear',C=1) # Linear Kernel"
      ],
      "execution_count": null,
      "outputs": []
    },
    {
      "cell_type": "code",
      "metadata": {
        "id": "AiHq6N8u7xrP"
      },
      "source": [
        "#Train the model using the training sets\n",
        "clf.fit(x_train, y_train)"
      ],
      "execution_count": null,
      "outputs": []
    },
    {
      "cell_type": "code",
      "metadata": {
        "id": "NVH2U4qN7xrQ"
      },
      "source": [
        "#Predict the class for test dataset\n",
        "y_pred = clf.predict(x_test)"
      ],
      "execution_count": null,
      "outputs": []
    },
    {
      "cell_type": "code",
      "metadata": {
        "id": "xZ26_vHU7xrR"
      },
      "source": [
        "print(\"Accuracy:\",(metrics.accuracy_score(y_test, y_pred)*100))\n",
        "print(\"Precision:\",(metrics.precision_score(y_test, y_pred)*100))\n",
        "print(\"Recall:\",(metrics.recall_score(y_test, y_pred)*100))"
      ],
      "execution_count": null,
      "outputs": []
    },
    {
      "cell_type": "code",
      "metadata": {
        "id": "tflnHFJA7xrS"
      },
      "source": [
        "confusion_matrix(y_test, y_pred)"
      ],
      "execution_count": null,
      "outputs": []
    },
    {
      "cell_type": "code",
      "metadata": {
        "id": "QsxV1Z1Q7xrT"
      },
      "source": [
        "cm = confusion_matrix(y_test, y_pred)\n",
        "sns.heatmap(cm, square=True, annot=True, fmt='d', cbar=False)\n",
        "plt.xlabel('true label')\n",
        "plt.ylabel('predicted label')"
      ],
      "execution_count": null,
      "outputs": []
    },
    {
      "cell_type": "code",
      "metadata": {
        "id": "SpY5if9c7xrT"
      },
      "source": [
        "print (classification_report(y_test, y_pred))"
      ],
      "execution_count": null,
      "outputs": []
    },
    {
      "cell_type": "code",
      "metadata": {
        "id": "i4FN7MOS7xrU"
      },
      "source": [
        "plotting_roc(y_test, y_pred)"
      ],
      "execution_count": null,
      "outputs": []
    },
    {
      "cell_type": "code",
      "metadata": {
        "id": "9RJPPl5I7xrV"
      },
      "source": [
        "#saving the model\n",
        "#joblib.dump(clf, 'svm.pkl')"
      ],
      "execution_count": null,
      "outputs": []
    },
    {
      "cell_type": "code",
      "metadata": {
        "id": "C-lWzOQP7xrV"
      },
      "source": [
        "#Calling back the model \n",
        "#clf = joblib.load('svm.pkl')\n"
      ],
      "execution_count": null,
      "outputs": []
    },
    {
      "cell_type": "markdown",
      "metadata": {
        "id": "k6yN6Bht7xrW"
      },
      "source": [
        "# Hyperparametrs SVM"
      ]
    },
    {
      "cell_type": "code",
      "metadata": {
        "id": "Jhfns3UD7xrW"
      },
      "source": [
        "# param_grid = {'C': [0.1,1, 10, 100], 'gamma': [1,0.1,0.01,0.001],'kernel': ['rbf', 'poly', 'sigmoid','linear']}"
      ],
      "execution_count": null,
      "outputs": []
    },
    {
      "cell_type": "code",
      "metadata": {
        "id": "odksuxB67xrW"
      },
      "source": [
        "# trying = GridSearchCV(svm.SVC(),param_grid,refit=True,verbose=3)\n",
        "# trying.fit(x_train,y_train)"
      ],
      "execution_count": null,
      "outputs": []
    },
    {
      "cell_type": "code",
      "metadata": {
        "id": "IRJpNr957xrX"
      },
      "source": [
        "# print(trying.best_estimator_)"
      ],
      "execution_count": null,
      "outputs": []
    },
    {
      "cell_type": "code",
      "metadata": {
        "id": "iHKCrEUD7xrX"
      },
      "source": [
        "# trying_predictions = trying.predict(x_test)\n",
        "# print(confusion_matrix(y_test,trying_predictions))\n",
        "# print(classification_report(y_test,trying_predictions))"
      ],
      "execution_count": null,
      "outputs": []
    },
    {
      "cell_type": "code",
      "metadata": {
        "id": "pFnuROST7xrY"
      },
      "source": [
        "# reun the SVM classifier based on the best estimation parametrs"
      ],
      "execution_count": null,
      "outputs": []
    },
    {
      "cell_type": "code",
      "metadata": {
        "id": "PQF6n6uI7xrY"
      },
      "source": [
        ""
      ],
      "execution_count": null,
      "outputs": []
    },
    {
      "cell_type": "markdown",
      "metadata": {
        "id": "KZICs27v7xrb"
      },
      "source": [
        "# Random Forest"
      ]
    },
    {
      "cell_type": "code",
      "metadata": {
        "id": "x8SOHoy37xrb",
        "outputId": "04e10d47-2ea5-4170-edf6-56d4e41b1e57"
      },
      "source": [
        "clf_random = RandomForestClassifier()\n",
        "clf_random.fit(x_train, y_train)"
      ],
      "execution_count": null,
      "outputs": [
        {
          "data": {
            "text/plain": [
              "RandomForestClassifier()"
            ]
          },
          "execution_count": 46,
          "metadata": {},
          "output_type": "execute_result"
        }
      ]
    },
    {
      "cell_type": "code",
      "metadata": {
        "id": "OtNjOggR7xrc"
      },
      "source": [
        "#features importance"
      ],
      "execution_count": null,
      "outputs": []
    },
    {
      "cell_type": "code",
      "metadata": {
        "id": "2nJTgled7xrc",
        "outputId": "621d8ea8-dee5-403a-cfd7-3af993c89fb6"
      },
      "source": [
        "importance = clf_random.feature_importances_\n",
        "print(importance ,x_train.columns )"
      ],
      "execution_count": null,
      "outputs": [
        {
          "name": "stdout",
          "output_type": "stream",
          "text": [
            "[0.41327919 0.10771923 0.13505483 0.09055385 0.07912057 0.08325549\n",
            " 0.04628517 0.04473168] Index(['Favorited', 'Followers', 'Friends', 'Status_count', 'Fovorites_count',\n",
            "       'E_score', 'Retweet_Count', 'Time_span'],\n",
            "      dtype='object')\n"
          ]
        }
      ]
    },
    {
      "cell_type": "code",
      "metadata": {
        "id": "AdLxsS6n7xrd",
        "outputId": "d69ed7fc-7149-4d44-b357-4ecc0dca57ea"
      },
      "source": [
        "plt.barh(x_train.columns, clf_random.feature_importances_)"
      ],
      "execution_count": null,
      "outputs": [
        {
          "data": {
            "text/plain": [
              "<BarContainer object of 8 artists>"
            ]
          },
          "execution_count": 49,
          "metadata": {},
          "output_type": "execute_result"
        },
        {
          "data": {
            "image/png": "[encoded data removed]",
            "text/plain": [
              "<Figure size 432x288 with 1 Axes>"
            ]
          },
          "metadata": {
            "needs_background": "light"
          },
          "output_type": "display_data"
        }
      ]
    },
    {
      "cell_type": "code",
      "metadata": {
        "id": "_rw9Z0T-7xre"
      },
      "source": [
        "#prdiction "
      ],
      "execution_count": null,
      "outputs": []
    },
    {
      "cell_type": "code",
      "metadata": {
        "id": "geKTik8G7xre"
      },
      "source": [
        "train_predict=clf_random.predict(x_train)\n",
        "y_predict=clf_random.predict(x_test)"
      ],
      "execution_count": null,
      "outputs": []
    },
    {
      "cell_type": "code",
      "metadata": {
        "id": "FTE5RhEH7xrf"
      },
      "source": [
        "print(\"Training accuracy\", accuracy_score(y_train,train_predict))\n",
        "print(\"Testing accuracy\", accuracy_score(y_test,y_predict))"
      ],
      "execution_count": null,
      "outputs": []
    },
    {
      "cell_type": "code",
      "metadata": {
        "id": "NjCdjhhR7xrf"
      },
      "source": [
        "#training dataset\n",
        "print(classification_report(y_train,train_predict))"
      ],
      "execution_count": null,
      "outputs": []
    },
    {
      "cell_type": "code",
      "metadata": {
        "id": "VTUcf9Dj7xrg"
      },
      "source": [
        "#testing dataset\n",
        "print(classification_report(y_test, y_predict))"
      ],
      "execution_count": null,
      "outputs": []
    },
    {
      "cell_type": "code",
      "metadata": {
        "id": "t25fgEHm7xrh"
      },
      "source": [
        "clf_random.decision_path(x_train)"
      ],
      "execution_count": null,
      "outputs": []
    },
    {
      "cell_type": "code",
      "metadata": {
        "id": "pa5zf84c7xri"
      },
      "source": [
        "#AUC and ROC"
      ],
      "execution_count": null,
      "outputs": []
    },
    {
      "cell_type": "code",
      "metadata": {
        "id": "JZis7_bt7xri"
      },
      "source": [
        "plotting_roc(y_test, y_predict)"
      ],
      "execution_count": null,
      "outputs": []
    },
    {
      "cell_type": "code",
      "metadata": {
        "id": "xcYQn28V7xrj"
      },
      "source": [
        "#class 1\n",
        "tree_test_pred1= clf_random.predict_proba(x_test)[:, 1]\n",
        "precision, recall, thresholds = precision_recall_curve(\n",
        "    y_test, tree_test_pred1, pos_label = 1)\n",
        "\n",
        "# AUC score that summarizes the precision recall curve\n",
        "avg_precision = average_precision_score(y_test, tree_test_pred1)\n",
        "\n",
        "label = 'Precision Recall AUC: {:.2f}'.format(avg_precision)\n",
        "plt.plot(recall, precision, lw = 2, label = label)\n",
        "plt.xlabel('Recall')  \n",
        "plt.ylabel('Precision')  \n",
        "plt.title('Precision Recall Curve')\n",
        "plt.legend()\n",
        "plt.tight_layout()\n",
        "plt.show()"
      ],
      "execution_count": null,
      "outputs": []
    },
    {
      "cell_type": "code",
      "metadata": {
        "id": "dXnFfUMW7xrk"
      },
      "source": [
        "#class 0\n",
        "tree_test_pred0= clf_random.predict_proba(x_test)[:, 1]\n",
        "precision, recall, thresholds = precision_recall_curve(\n",
        "    y_test, tree_test_pred0, pos_label = 0)\n",
        "\n",
        "# AUC score that summarizes the precision recall curve\n",
        "avg_precision = average_precision_score(y_test, tree_test_pred1)\n",
        "\n",
        "label = 'Precision Recall AUC: {:.2f}'.format(avg_precision)\n",
        "plt.plot(recall, precision, lw = 2, label = label)\n",
        "plt.xlabel('Recall')  \n",
        "plt.ylabel('Precision')  \n",
        "plt.title('Precision Recall Curve')\n",
        "plt.legend()\n",
        "plt.tight_layout()\n",
        "plt.show()"
      ],
      "execution_count": null,
      "outputs": []
    },
    {
      "cell_type": "code",
      "metadata": {
        "id": "afgDXzt77xrl"
      },
      "source": [
        "#one tree visualization "
      ],
      "execution_count": null,
      "outputs": []
    },
    {
      "cell_type": "code",
      "metadata": {
        "id": "6DOKQSVa7xrm"
      },
      "source": [
        "feature_names = new_data.columns[:8]\n",
        "target_names = new_data['Result'].unique().tolist()\n"
      ],
      "execution_count": null,
      "outputs": []
    },
    {
      "cell_type": "code",
      "metadata": {
        "id": "_PhaPhjq7xrm"
      },
      "source": [
        "#plotting the tree\n",
        "plt.figure(figsize=(80,60))\n",
        "tree.plot_tree(clf_random[0], \n",
        "                feature_names = feature_names,\n",
        "                class_names = str(target_names),\n",
        "                rounded = True, proportion = False, \n",
        "                precision = 2, filled = True)\n"
      ],
      "execution_count": null,
      "outputs": []
    },
    {
      "cell_type": "code",
      "metadata": {
        "id": "EOMoJNEU7xro"
      },
      "source": [
        "#improve the random forest classifier performance "
      ],
      "execution_count": null,
      "outputs": []
    },
    {
      "cell_type": "code",
      "metadata": {
        "id": "dQht0uUg7xrp"
      },
      "source": [
        "#1-cross validation"
      ],
      "execution_count": null,
      "outputs": []
    },
    {
      "cell_type": "code",
      "metadata": {
        "id": "JtSMafWM7xrq"
      },
      "source": [
        "#fc_cv_score = cross_val_score(clf_random,x_train, y_train, cv=10, scoring='roc_auc')\n",
        "fc_cv_score = StratifiedKFold(n_splits=5,shuffle=False)"
      ],
      "execution_count": null,
      "outputs": []
    },
    {
      "cell_type": "code",
      "metadata": {
        "id": "ywSxFr0d7xrr"
      },
      "source": [
        "print(\"=== Confusion Matrix ===\")\n",
        "print(confusion_matrix(y_test, y_predict))\n",
        "print('\\n')\n",
        "print(\"=== Classification Report ===\")\n",
        "print(classification_report(y_test, y_predict))\n",
        "print('\\n')\n",
        "# print(\"=== All AUC Scores ===\")\n",
        "# print(fc_cv_score)\n",
        "# print('\\n')\n",
        "# print(\"=== Mean AUC Score ===\")\n",
        "# print(\"Mean AUC Score - Random Forest: \", fc_cv_score.mean())"
      ],
      "execution_count": null,
      "outputs": []
    },
    {
      "cell_type": "markdown",
      "metadata": {
        "id": "oVi6JEzH7xrs"
      },
      "source": [
        "# auc and roc (Cross Validation)"
      ]
    },
    {
      "cell_type": "code",
      "metadata": {
        "id": "YC6clOXw7xru"
      },
      "source": [
        "# plot arrows\n",
        "import matplotlib.patches as patches\n",
        "from scipy import interp\n",
        "\n",
        "fig1 = plt.figure(figsize=[12,12])\n",
        "ax1 = fig1.add_subplot(111,aspect = 'equal')\n",
        "ax1.add_patch(\n",
        "    patches.Arrow(0.45,0.5,-0.25,0.25,width=0.3,color='green',alpha = 0.5)\n",
        "    )\n",
        "ax1.add_patch(\n",
        "    patches.Arrow(0.5,0.45,0.25,-0.25,width=0.3,color='red',alpha = 0.5)\n",
        "    )\n",
        "\n",
        "tprs = []\n",
        "aucs = []\n",
        "mean_fpr = np.linspace(0,1,100)\n",
        "i = 1\n",
        "for train,test in fc_cv_score.split(x,y):\n",
        "    prediction = clf_random.fit(x.iloc[train],y.iloc[train]).predict_proba(x.iloc[test])\n",
        "    fpr, tpr, t = roc_curve(y[test], prediction[:, 1])\n",
        "    tprs.append(interp(mean_fpr, fpr, tpr))\n",
        "    roc_auc = auc(fpr, tpr)\n",
        "    aucs.append(roc_auc)\n",
        "    plt.plot(fpr, tpr, lw=2, alpha=0.3, label='ROC fold %d (AUC = %0.2f)' % (i, roc_auc))\n",
        "    i= i+1\n",
        "\n",
        "plt.plot([0,1],[0,1],linestyle = '--',lw = 2,color = 'black')\n",
        "mean_tpr = np.mean(tprs, axis=0)\n",
        "mean_auc = auc(mean_fpr, mean_tpr)\n",
        "plt.plot(mean_fpr, mean_tpr, color='blue',\n",
        "         label=r'Mean ROC (AUC = %0.2f )' % (mean_auc),lw=2, alpha=1)\n",
        "\n",
        "plt.xlabel('False Positive Rate')\n",
        "plt.ylabel('True Positive Rate')\n",
        "plt.title('ROC')\n",
        "plt.legend(loc=\"lower right\")\n",
        "plt.text(0.32,0.7,'More accurate area',fontsize = 12)\n",
        "plt.text(0.63,0.4,'Less accurate area',fontsize = 12)\n",
        "plt.show()"
      ],
      "execution_count": null,
      "outputs": []
    },
    {
      "cell_type": "code",
      "metadata": {
        "id": "_HUIqmor7xrv"
      },
      "source": [
        ""
      ],
      "execution_count": null,
      "outputs": []
    },
    {
      "cell_type": "code",
      "metadata": {
        "id": "u9zHyXG47xrw"
      },
      "source": [
        "#2-hyperparameter for the best estimation "
      ],
      "execution_count": null,
      "outputs": []
    },
    {
      "cell_type": "code",
      "metadata": {
        "id": "5M3sjPix7xrx"
      },
      "source": [
        "# Number of trees in random forest\n",
        "n_estimators = [int(x) for x in np.linspace(start = 200, stop = 2000, num = 10)]\n",
        "# Number of features to consider at every split\n",
        "max_features = ['auto', 'sqrt']\n",
        "# Maximum number of levels in tree\n",
        "max_depth = [int(x) for x in np.linspace(10, 110, num = 11)]\n",
        "max_depth.append(None)\n",
        "# Minimum number of samples required to split a node\n",
        "min_samples_split = [2, 5, 10]\n",
        "# Minimum number of samples required at each leaf node\n",
        "min_samples_leaf = [1, 2, 4]\n",
        "# Method of selecting samples for training each tree\n",
        "bootstrap = [True, False]\n",
        "# Create the random grid\n",
        "random_grid = {'n_estimators': n_estimators,\n",
        "               'max_features': max_features,\n",
        "               'max_depth': max_depth,\n",
        "               'min_samples_split': min_samples_split,\n",
        "               'min_samples_leaf': min_samples_leaf,\n",
        "               'bootstrap': bootstrap}\n",
        "print(random_grid)"
      ],
      "execution_count": null,
      "outputs": []
    },
    {
      "cell_type": "markdown",
      "metadata": {
        "id": "nfcp_L887xry"
      },
      "source": [
        "#RandomizedSearchCV"
      ]
    },
    {
      "cell_type": "code",
      "metadata": {
        "id": "ZL8lhKtq7xry"
      },
      "source": [
        "# Use the random grid to search for best hyperparameters\n",
        "# First create the base model to tune\n",
        "rf = RandomForestClassifier()\n",
        "# Random search of parameters, using 3 fold cross validation, \n",
        "# search across 100 different combinations, and use all available cores\n",
        "rf_random = RandomizedSearchCV(estimator = rf, param_distributions = random_grid, n_iter = 100,\n",
        "                               cv = 3, verbose=2, random_state=42, n_jobs = -1)\n"
      ],
      "execution_count": null,
      "outputs": []
    },
    {
      "cell_type": "code",
      "metadata": {
        "id": "g_4lv4ME7xrz"
      },
      "source": [
        "# Fit the random search model\n",
        "rf_random.fit(x_train, y_train)"
      ],
      "execution_count": null,
      "outputs": []
    },
    {
      "cell_type": "code",
      "metadata": {
        "id": "qUobNdbF7xrz"
      },
      "source": [
        "rf_random.best_params_"
      ],
      "execution_count": null,
      "outputs": []
    },
    {
      "cell_type": "code",
      "metadata": {
        "id": "GGbeth7Y7xr0"
      },
      "source": [
        "rf_random.best_estimator_"
      ],
      "execution_count": null,
      "outputs": []
    },
    {
      "cell_type": "code",
      "metadata": {
        "id": "zJc_l5fo7xr1"
      },
      "source": [
        "#building random forset classifier with best parameters\n",
        "cl_ran=rf = RandomForestClassifier(n_estimators= 600,\n",
        " min_samples_split= 5,\n",
        " min_samples_leaf= 1,\n",
        " max_features='sqrt',\n",
        " max_depth= 60,\n",
        " bootstrap= False)"
      ],
      "execution_count": null,
      "outputs": []
    },
    {
      "cell_type": "code",
      "metadata": {
        "id": "nU5PACtA7xr2",
        "outputId": "131d3ef2-ea3b-4e67-8da4-616bc4babbcd"
      },
      "source": [
        "cl_ran.fit(x_train,y_train)"
      ],
      "execution_count": null,
      "outputs": [
        {
          "data": {
            "text/plain": [
              "RandomForestClassifier(bootstrap=False, max_depth=60, max_features='sqrt',\n",
              "                       min_samples_split=5, n_estimators=600)"
            ]
          },
          "execution_count": 73,
          "metadata": {},
          "output_type": "execute_result"
        }
      ]
    },
    {
      "cell_type": "code",
      "metadata": {
        "id": "KXxjAeup7xr4"
      },
      "source": [
        "y_n_predict_train=cl_ran.predict(x_train)"
      ],
      "execution_count": null,
      "outputs": []
    },
    {
      "cell_type": "code",
      "metadata": {
        "id": "h8o_W_4x7xr4"
      },
      "source": [
        "print(classification_report(y_train, y_n_predict_train))"
      ],
      "execution_count": null,
      "outputs": []
    },
    {
      "cell_type": "code",
      "metadata": {
        "id": "gCcQA02s7xr5"
      },
      "source": [
        "y_n_predict=cl_ran.predict(x_test)"
      ],
      "execution_count": null,
      "outputs": []
    },
    {
      "cell_type": "code",
      "metadata": {
        "id": "7OS-bJ_57xr5"
      },
      "source": [
        "print(classification_report(y_test, y_n_predict))"
      ],
      "execution_count": null,
      "outputs": []
    },
    {
      "cell_type": "code",
      "metadata": {
        "id": "Y_A_H3zT7xr5"
      },
      "source": [
        "print(\"=== Confusion Matrix ===\")\n",
        "print(confusion_matrix(y_test, y_n_predict))"
      ],
      "execution_count": null,
      "outputs": []
    },
    {
      "cell_type": "code",
      "metadata": {
        "id": "r7xVqIUo7xsM"
      },
      "source": [
        "plotting_roc(y_test, y_n_predict)"
      ],
      "execution_count": null,
      "outputs": []
    },
    {
      "cell_type": "code",
      "metadata": {
        "id": "rtxyGPA27xsM"
      },
      "source": [
        ""
      ],
      "execution_count": null,
      "outputs": []
    },
    {
      "cell_type": "markdown",
      "metadata": {
        "id": "hpIARlv_7xsN"
      },
      "source": [
        "# Gradiant Boosting Classifier"
      ]
    },
    {
      "cell_type": "code",
      "metadata": {
        "id": "B5LYsa1Q7xsN"
      },
      "source": [
        "#to choose the number of estimators\n",
        "n_estimators = [1, 2, 4, 8, 16, 32, 64, 100, 200,400,600]\n",
        "train_results = []\n",
        "test_results = []\n",
        "for estimator in n_estimators:\n",
        "   rf = GradientBoostingClassifier(n_estimators=estimator)\n",
        "   rf.fit(x_train, y_train)\n",
        "   train_pred = rf.predict(x_train)\n",
        "   false_positive_rate, true_positive_rate, thresholds = roc_curve(y_train, train_pred)\n",
        "   roc_auc = auc(false_positive_rate, true_positive_rate)\n",
        "   train_results.append(roc_auc)\n",
        "   y_pred = rf.predict(x_test)\n",
        "   false_positive_rate, true_positive_rate, thresholds = roc_curve(y_test, y_pred)\n",
        "   roc_auc = auc(false_positive_rate, true_positive_rate)\n",
        "   test_results.append(roc_auc)\n",
        "from matplotlib.legend_handler import HandlerLine2D\n",
        "line1, = plt.plot(n_estimators, train_results, 'b', label=\"Train AUC\")\n",
        "line2, = plt.plot(n_estimators, test_results, 'r', label=\"Test AUC\")\n",
        "plt.legend(handler_map={line1: HandlerLine2D(numpoints=2)})\n",
        "plt.ylabel('AUC score')\n",
        "plt.xlabel('n_estimators')\n",
        "plt.show()"
      ],
      "execution_count": null,
      "outputs": []
    },
    {
      "cell_type": "code",
      "metadata": {
        "id": "sTthmqAP7xsO"
      },
      "source": [
        "boos_cl=GradientBoostingClassifier(n_estimators=50)"
      ],
      "execution_count": null,
      "outputs": []
    },
    {
      "cell_type": "code",
      "metadata": {
        "id": "G2D3kxmB7xsP",
        "outputId": "f2fb1efb-eabb-4f0d-f8d2-fdba2b9bf9dd"
      },
      "source": [
        "boos_cl.fit(x_train,y_train)"
      ],
      "execution_count": null,
      "outputs": [
        {
          "data": {
            "text/plain": [
              "GradientBoostingClassifier(n_estimators=50)"
            ]
          },
          "execution_count": 83,
          "metadata": {},
          "output_type": "execute_result"
        }
      ]
    },
    {
      "cell_type": "code",
      "metadata": {
        "id": "c3RCeLY57xsP"
      },
      "source": [
        "train_pred_log = boos_cl.predict(x_train)"
      ],
      "execution_count": null,
      "outputs": []
    },
    {
      "cell_type": "code",
      "metadata": {
        "id": "k3f7CH8H7xsQ"
      },
      "source": [
        "training_accuracy =( boos_cl.score(x_train,y_train))*100\n",
        "training_accuracy"
      ],
      "execution_count": null,
      "outputs": []
    },
    {
      "cell_type": "code",
      "metadata": {
        "id": "b9HJpgdz7xsR"
      },
      "source": [
        "print(classification_report(y_train, train_pred_log))"
      ],
      "execution_count": null,
      "outputs": []
    },
    {
      "cell_type": "code",
      "metadata": {
        "id": "KKiPx59P7xsR"
      },
      "source": [
        "test_pred_log = boos_cl.predict(x_test)"
      ],
      "execution_count": null,
      "outputs": []
    },
    {
      "cell_type": "code",
      "metadata": {
        "id": "ft-sgG1j7xsU"
      },
      "source": [
        "testing_accuracy =( boos_cl.score(x_test,y_test))*100\n",
        "testing_accuracy"
      ],
      "execution_count": null,
      "outputs": []
    },
    {
      "cell_type": "code",
      "metadata": {
        "id": "04_HbEu_7xsV"
      },
      "source": [
        "print(classification_report(y_test, test_pred_log))"
      ],
      "execution_count": null,
      "outputs": []
    },
    {
      "cell_type": "code",
      "metadata": {
        "id": "HtaQS8mr7xsW"
      },
      "source": [
        "plotting_roc(y_test,test_pred_log)"
      ],
      "execution_count": null,
      "outputs": []
    },
    {
      "cell_type": "code",
      "metadata": {
        "id": "jy_QaIke7xsW"
      },
      "source": [
        ""
      ],
      "execution_count": null,
      "outputs": []
    }
  ]
}